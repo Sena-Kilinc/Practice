{
 "cells": [
  {
   "cell_type": "markdown",
   "metadata": {
    "id": "VahMtzR6soOw"
   },
   "source": [
    "## Variables"
   ]
  },
  {
   "cell_type": "code",
   "execution_count": null,
   "metadata": {
    "colab": {
     "base_uri": "https://localhost:8080/"
    },
    "id": "yz0rCY7xsZkV",
    "outputId": "4e0b26ed-5689-4d04-b701-b4c7574f7a56"
   },
   "outputs": [
    {
     "name": "stdout",
     "output_type": "stream",
     "text": [
      "n = 0\n"
     ]
    }
   ],
   "source": [
    "n=0\n",
    "print('n =',n)"
   ]
  },
  {
   "cell_type": "code",
   "execution_count": null,
   "metadata": {
    "colab": {
     "base_uri": "https://localhost:8080/"
    },
    "id": "rk7cGoNuszCC",
    "outputId": "39d20dc6-0af5-49c8-e965-4171ed8ebb49"
   },
   "outputs": [
    {
     "name": "stdout",
     "output_type": "stream",
     "text": [
      "n = abc\n"
     ]
    }
   ],
   "source": [
    "n=\"abc\"\n",
    "print(\"n =\",n)"
   ]
  },
  {
   "cell_type": "code",
   "execution_count": null,
   "metadata": {
    "colab": {
     "base_uri": "https://localhost:8080/"
    },
    "id": "_a7QvR44s22q",
    "outputId": "7fa1b26a-368b-4f15-c96b-72e542280816"
   },
   "outputs": [
    {
     "name": "stdout",
     "output_type": "stream",
     "text": [
      "0 abc\n"
     ]
    },
    {
     "data": {
      "text/plain": [
       "1"
      ]
     },
     "execution_count": 6,
     "metadata": {},
     "output_type": "execute_result"
    }
   ],
   "source": [
    "n,m=0,\"abc\"\n",
    "print(n, m)\n",
    "n +=1\n",
    "n"
   ]
  },
  {
   "cell_type": "code",
   "execution_count": null,
   "metadata": {
    "colab": {
     "base_uri": "https://localhost:8080/"
    },
    "id": "6zJPYrFE1TwE",
    "outputId": "ce760d48-985c-450f-ab14-ed6a817c0d64"
   },
   "outputs": [
    {
     "name": "stdout",
     "output_type": "stream",
     "text": [
      "2.5 2\n",
      "1\n"
     ]
    }
   ],
   "source": [
    "print(5/2,5//2)\n",
    "print(10%3)"
   ]
  },
  {
   "cell_type": "markdown",
   "metadata": {
    "id": "_rr1Ax7J2CIG"
   },
   "source": [
    "## Math"
   ]
  },
  {
   "cell_type": "code",
   "execution_count": null,
   "metadata": {
    "colab": {
     "base_uri": "https://localhost:8080/"
    },
    "id": "wIhWRUku1rCK",
    "outputId": "ad57347e-d665-45d3-94c6-9deb8bba649d"
   },
   "outputs": [
    {
     "name": "stdout",
     "output_type": "stream",
     "text": [
      "1\n",
      "2\n",
      "2.0\n",
      "8.0\n"
     ]
    }
   ],
   "source": [
    "import math\n",
    "print(math.floor(3/2))\n",
    "print(math.ceil(3/2))\n",
    "print(math.sqrt(4))\n",
    "print(math.pow(2,3))"
   ]
  },
  {
   "cell_type": "markdown",
   "metadata": {
    "id": "_kDtb8TTtGRw"
   },
   "source": [
    "## If Statements"
   ]
  },
  {
   "cell_type": "code",
   "execution_count": null,
   "metadata": {
    "colab": {
     "base_uri": "https://localhost:8080/"
    },
    "id": "BcdUiC1_tDdw",
    "outputId": "46e5b714-ba8c-4e4d-9f73-63b8455de97c"
   },
   "outputs": [
    {
     "data": {
      "text/plain": [
       "2"
      ]
     },
     "execution_count": 10,
     "metadata": {},
     "output_type": "execute_result"
    }
   ],
   "source": [
    "n =3\n",
    "if n>2:\n",
    "  n-=1\n",
    "elif n==2:\n",
    "  n*=2\n",
    "else:\n",
    "  n+=2\n",
    "print(n)"
   ]
  },
  {
   "cell_type": "code",
   "execution_count": null,
   "metadata": {
    "colab": {
     "base_uri": "https://localhost:8080/"
    },
    "id": "4ykbPV37uw9s",
    "outputId": "e4d3daee-fe58-48e1-b9ea-b0ff25401b99"
   },
   "outputs": [
    {
     "name": "stdout",
     "output_type": "stream",
     "text": [
      "6\n"
     ]
    }
   ],
   "source": [
    "# For Multi-Line conditions u can use  and(&) , or(|)\n",
    "n,m=3,2\n",
    "if  (n>2) & (n!=m):\n",
    "  print(n*m)"
   ]
  },
  {
   "cell_type": "markdown",
   "metadata": {
    "id": "MpeaCUQ3uR3v"
   },
   "source": [
    "## Loops"
   ]
  },
  {
   "cell_type": "code",
   "execution_count": null,
   "metadata": {
    "colab": {
     "base_uri": "https://localhost:8080/"
    },
    "id": "VisMBjdevVJE",
    "outputId": "ebee487e-dafd-4a59-c6b1-00a6bc22870e"
   },
   "outputs": [
    {
     "name": "stdout",
     "output_type": "stream",
     "text": [
      "0 1 2 3 4 "
     ]
    }
   ],
   "source": [
    "n=0\n",
    "while n<5:\n",
    "  print(n,end=\" \")\n",
    "  n+=1"
   ]
  },
  {
   "cell_type": "code",
   "execution_count": null,
   "metadata": {
    "colab": {
     "base_uri": "https://localhost:8080/"
    },
    "id": "PtnxgVO8zsQg",
    "outputId": "b38e3ed5-c2b7-4153-cad7-1daadcde3235"
   },
   "outputs": [
    {
     "name": "stdout",
     "output_type": "stream",
     "text": [
      "0 1 2 3 4 "
     ]
    }
   ],
   "source": [
    "for i in range(n):\n",
    "  print(i,end=\" \")"
   ]
  },
  {
   "cell_type": "code",
   "execution_count": null,
   "metadata": {
    "colab": {
     "base_uri": "https://localhost:8080/"
    },
    "id": "ONrJDayO0xaJ",
    "outputId": "95eb6b36-0502-4c6c-b49f-9a8a296ee0e0"
   },
   "outputs": [
    {
     "name": "stdout",
     "output_type": "stream",
     "text": [
      "2 3 4 5 "
     ]
    }
   ],
   "source": [
    "for i in range(2,6):\n",
    "  print(i,end=\" \")"
   ]
  },
  {
   "cell_type": "code",
   "execution_count": null,
   "metadata": {
    "colab": {
     "base_uri": "https://localhost:8080/"
    },
    "id": "nK4Kfo4m08Yv",
    "outputId": "5da2ed23-6e41-4832-de11-c527debf11ef"
   },
   "outputs": [
    {
     "name": "stdout",
     "output_type": "stream",
     "text": [
      "2 4 6 8 "
     ]
    }
   ],
   "source": [
    "for i in range(2,10,2):\n",
    "  print(i,end=\" \") # increments"
   ]
  },
  {
   "cell_type": "code",
   "execution_count": null,
   "metadata": {
    "colab": {
     "base_uri": "https://localhost:8080/"
    },
    "id": "RxrpfPHY1ARF",
    "outputId": "f903b243-b2b8-4950-cf3c-01386a07bc8d"
   },
   "outputs": [
    {
     "name": "stdout",
     "output_type": "stream",
     "text": [
      "3 2 1 "
     ]
    }
   ],
   "source": [
    "for i in range(3,0,-1): #decrement\n",
    "  print(i,end=\" \")"
   ]
  },
  {
   "cell_type": "code",
   "execution_count": null,
   "metadata": {
    "colab": {
     "base_uri": "https://localhost:8080/"
    },
    "id": "sJdFylzcHraE",
    "outputId": "9b061f2b-c865-4c48-dc50-5cf79e9e5357"
   },
   "outputs": [
    {
     "name": "stdout",
     "output_type": "stream",
     "text": [
      "1 2 3 4 5 6 "
     ]
    }
   ],
   "source": [
    "nums=[1,2,3,4,5,6]\n",
    "for i in nums:\n",
    "  print(i,end=\" \")"
   ]
  },
  {
   "cell_type": "markdown",
   "metadata": {
    "id": "z44rM0RV2GrX"
   },
   "source": [
    "## Arrays"
   ]
  },
  {
   "cell_type": "code",
   "execution_count": null,
   "metadata": {
    "colab": {
     "base_uri": "https://localhost:8080/"
    },
    "id": "iWKm68WZ2GPz",
    "outputId": "c223af1e-81e7-4c16-de71-44ac1a0a1a3b"
   },
   "outputs": [
    {
     "name": "stdout",
     "output_type": "stream",
     "text": [
      "[1, 2, 3, 4]\n",
      "[1, 7, 2, 3, 4]\n"
     ]
    }
   ],
   "source": [
    "arr = [1,2,3]\n",
    "arr.append(4)\n",
    "arr.append(6)\n",
    "arr.pop()\n",
    "print(arr)\n",
    "arr.insert(1,7)\n",
    "print(arr)"
   ]
  },
  {
   "cell_type": "code",
   "execution_count": null,
   "metadata": {
    "colab": {
     "base_uri": "https://localhost:8080/"
    },
    "id": "rC5Wd1vo1FN1",
    "outputId": "2746f328-11f7-489c-af3d-931150695e29"
   },
   "outputs": [
    {
     "name": "stdout",
     "output_type": "stream",
     "text": [
      "[0, 1, 2, 3, 4]\n"
     ]
    }
   ],
   "source": [
    "arr[0]=0\n",
    "arr[1]=1\n",
    "print(arr)"
   ]
  },
  {
   "cell_type": "code",
   "execution_count": null,
   "metadata": {
    "colab": {
     "base_uri": "https://localhost:8080/"
    },
    "id": "QaPb-_2U4Rzy",
    "outputId": "f39b1c9d-dc97-45ef-863f-73ac84c1a01f"
   },
   "outputs": [
    {
     "name": "stdout",
     "output_type": "stream",
     "text": [
      "[1, 1, 1, 1, 1]\n"
     ]
    },
    {
     "data": {
      "text/plain": [
       "-2"
      ]
     },
     "execution_count": 44,
     "metadata": {},
     "output_type": "execute_result"
    }
   ],
   "source": [
    "# Initialize arr of size n with default value of 1\n",
    "n=5\n",
    "arr= [1]*n\n",
    "print(arr)\n",
    "arr[4]=-2\n",
    "arr[-1]"
   ]
  },
  {
   "cell_type": "code",
   "execution_count": null,
   "metadata": {
    "colab": {
     "base_uri": "https://localhost:8080/"
    },
    "id": "lvR-aPom4fla",
    "outputId": "73018ebf-e3f7-4c43-d348-b531380e52ec"
   },
   "outputs": [
    {
     "data": {
      "text/plain": [
       "[2, 3]"
      ]
     },
     "execution_count": 46,
     "metadata": {},
     "output_type": "execute_result"
    }
   ],
   "source": [
    "# sublists(slicing)\n",
    "arr = [1,2,3,4,5]\n",
    "arr[1:3]"
   ]
  },
  {
   "cell_type": "code",
   "execution_count": null,
   "metadata": {
    "colab": {
     "base_uri": "https://localhost:8080/"
    },
    "id": "hc3rbCRQHDcO",
    "outputId": "ae60c1b9-05a8-45d5-b041-063bf08250dc"
   },
   "outputs": [
    {
     "data": {
      "text/plain": [
       "(1, 2, 3)"
      ]
     },
     "execution_count": 47,
     "metadata": {},
     "output_type": "execute_result"
    }
   ],
   "source": [
    "#unpacking\n",
    "a,b,c=[1,2,3]\n",
    "a,b,c"
   ]
  },
  {
   "cell_type": "code",
   "execution_count": null,
   "metadata": {
    "colab": {
     "base_uri": "https://localhost:8080/"
    },
    "id": "x2wLP5DWHdwd",
    "outputId": "755163a4-9120-4ceb-cdfc-69bc5922d35e"
   },
   "outputs": [
    {
     "name": "stdout",
     "output_type": "stream",
     "text": [
      "1 2 3 \n",
      "1 2 3 \n",
      "0 1\n",
      "1 2\n",
      "2 3\n"
     ]
    }
   ],
   "source": [
    "# loop through\n",
    "nums=[1,2,3]\n",
    "for i in range(len(nums)):\n",
    "  print(nums[i],end=\" \")\n",
    "print()\n",
    "for n in nums:\n",
    "  print(n,end=\" \")\n",
    "print()\n",
    "for i,n in enumerate(nums):\n",
    "  print(i,n)"
   ]
  },
  {
   "cell_type": "code",
   "execution_count": null,
   "metadata": {
    "colab": {
     "base_uri": "https://localhost:8080/"
    },
    "id": "fqEskJxIH4Gk",
    "outputId": "aad28c0c-d06f-4f4b-ad34-6674320cfca9"
   },
   "outputs": [
    {
     "name": "stdout",
     "output_type": "stream",
     "text": [
      "1 5\n",
      "2 6\n",
      "3 7\n"
     ]
    }
   ],
   "source": [
    "#loop through multiple arrays simultaneously\n",
    "nums1=[1,2,3]\n",
    "nums2=[5,6,7]\n",
    "for n1,n2 in zip(nums1,nums2):\n",
    "  print(n1,n2)"
   ]
  },
  {
   "cell_type": "code",
   "execution_count": null,
   "metadata": {
    "colab": {
     "base_uri": "https://localhost:8080/"
    },
    "id": "j5QfKdFxCnsA",
    "outputId": "e79e1a0a-3496-407d-a020-0b1c7b5e4682"
   },
   "outputs": [
    {
     "data": {
      "text/plain": [
       "[3, 2, 1]"
      ]
     },
     "execution_count": 4,
     "metadata": {},
     "output_type": "execute_result"
    }
   ],
   "source": [
    "# reverse\n",
    "nums=[1,2,3]\n",
    "nums.reverse()\n",
    "nums"
   ]
  },
  {
   "cell_type": "markdown",
   "metadata": {
    "id": "Dj6qjcdCDrjA"
   },
   "source": [
    "## Sort"
   ]
  },
  {
   "cell_type": "code",
   "execution_count": null,
   "metadata": {
    "colab": {
     "base_uri": "https://localhost:8080/"
    },
    "id": "qnl-JPIRCwha",
    "outputId": "63281cad-13d2-430b-c3d6-418d251047ae"
   },
   "outputs": [
    {
     "name": "stdout",
     "output_type": "stream",
     "text": [
      "[2, 3, 6, 8]\n"
     ]
    },
    {
     "data": {
      "text/plain": [
       "[8, 6, 3, 2]"
      ]
     },
     "execution_count": 6,
     "metadata": {},
     "output_type": "execute_result"
    }
   ],
   "source": [
    "arr=[8,2,6,3]\n",
    "arr.sort()\n",
    "print(arr)\n",
    "arr.sort(reverse=True)\n",
    "arr"
   ]
  },
  {
   "cell_type": "code",
   "execution_count": null,
   "metadata": {
    "colab": {
     "base_uri": "https://localhost:8080/"
    },
    "id": "ofsRUUZEDqBf",
    "outputId": "d536e2db-2478-4862-f4b4-e6e7b46b3b5a"
   },
   "outputs": [
    {
     "data": {
      "text/plain": [
       "['ece', 'sena', 'asdfsa', 'asopdkjaspo']"
      ]
     },
     "execution_count": 9,
     "metadata": {},
     "output_type": "execute_result"
    }
   ],
   "source": [
    "# custom sort by length of string\n",
    "arr=[\"sena\",\"ece\",\"asopdkjaspo\",\"asdfsa\"]\n",
    "arr.sort(key=lambda x:len(x))\n",
    "arr"
   ]
  },
  {
   "cell_type": "markdown",
   "metadata": {
    "id": "dJs7B7PmETKh"
   },
   "source": [
    "## List compherension"
   ]
  },
  {
   "cell_type": "code",
   "execution_count": null,
   "metadata": {
    "colab": {
     "base_uri": "https://localhost:8080/"
    },
    "id": "rIOY9_uTEGLF",
    "outputId": "3bc5432c-cfd6-44f8-f3e1-5343e7f49ad4"
   },
   "outputs": [
    {
     "data": {
      "text/plain": [
       "[0, 2, 4, 6, 8]"
      ]
     },
     "execution_count": 10,
     "metadata": {},
     "output_type": "execute_result"
    }
   ],
   "source": [
    "arr=[i+i for i in range(5)]\n",
    "arr"
   ]
  },
  {
   "cell_type": "markdown",
   "metadata": {
    "id": "XJK2MlNuFMoc"
   },
   "source": [
    "## 2D arrays"
   ]
  },
  {
   "cell_type": "code",
   "execution_count": null,
   "metadata": {
    "colab": {
     "base_uri": "https://localhost:8080/"
    },
    "id": "QpWY7sa6FPDG",
    "outputId": "1af7abab-f207-4846-e31d-4c04ebc4c14c"
   },
   "outputs": [
    {
     "data": {
      "text/plain": [
       "[[0, 0, 0, 0], [0, 0, 0, 0], [0, 0, 0, 0]]"
      ]
     },
     "execution_count": 11,
     "metadata": {},
     "output_type": "execute_result"
    }
   ],
   "source": [
    "arr=[[0]*4 for i in range(3)]\n",
    "arr"
   ]
  },
  {
   "cell_type": "markdown",
   "metadata": {
    "id": "YOGjJkZhFoGP"
   },
   "source": [
    "## Strings"
   ]
  },
  {
   "cell_type": "code",
   "execution_count": null,
   "metadata": {
    "colab": {
     "base_uri": "https://localhost:8080/"
    },
    "id": "wjzGxBsDFF09",
    "outputId": "c10e5b17-92f8-4c34-e1fc-a00707ab6c0c"
   },
   "outputs": [
    {
     "name": "stdout",
     "output_type": "stream",
     "text": [
      "bc\n",
      "128\n",
      "12334\n"
     ]
    }
   ],
   "source": [
    "# cant reassign\n",
    "s=\"abc\"\n",
    "print(s[1:])\n",
    "a=\"123\"\n",
    "print(int(a)+5)\n",
    "print(a+\"34\")\n",
    "## ASCII VALUE ord(\"a\")"
   ]
  },
  {
   "cell_type": "code",
   "execution_count": null,
   "metadata": {
    "colab": {
     "base_uri": "https://localhost:8080/"
    },
    "id": "gX8GKMayFvE5",
    "outputId": "8e08b1be-3b92-42f6-bb38-1505bc0b466b"
   },
   "outputs": [
    {
     "name": "stdout",
     "output_type": "stream",
     "text": [
      "abcdef\n"
     ]
    }
   ],
   "source": [
    "arr=[\"ab\",'cd',\"ef\"]\n",
    "b=\"\".join(arr)\n",
    "print(b)"
   ]
  },
  {
   "cell_type": "code",
   "execution_count": null,
   "metadata": {
    "colab": {
     "base_uri": "https://localhost:8080/"
    },
    "id": "c5ENgFRtGTNz",
    "outputId": "f3b15134-61a6-480a-c374-29d503566b0d"
   },
   "outputs": [
    {
     "data": {
      "text/plain": [
       "['I', 'love', 'my', 'mom.']"
      ]
     },
     "execution_count": 26,
     "metadata": {},
     "output_type": "execute_result"
    }
   ],
   "source": [
    "a=\"I love my mom.\"\n",
    "a.split(\" \")"
   ]
  },
  {
   "cell_type": "markdown",
   "metadata": {
    "id": "gHYwezYcGzk0"
   },
   "source": [
    "## Queue (double ended queue)"
   ]
  },
  {
   "cell_type": "code",
   "execution_count": null,
   "metadata": {
    "colab": {
     "base_uri": "https://localhost:8080/"
    },
    "id": "TRzogwAEGfzB",
    "outputId": "659142d8-ba17-470a-ff17-4062e0f966c3"
   },
   "outputs": [
    {
     "name": "stdout",
     "output_type": "stream",
     "text": [
      "deque([1, 2])\n",
      "deque([2])\n",
      "deque([1])\n"
     ]
    }
   ],
   "source": [
    "from collections import deque\n",
    "queue=deque()\n",
    "queue.append(1)\n",
    "queue.append(2)\n",
    "print(queue)\n",
    "\n",
    "queue.popleft()\n",
    "print(queue)\n",
    "\n",
    "queue.appendleft(1)\n",
    "queue.pop()\n",
    "print(queue)"
   ]
  },
  {
   "cell_type": "markdown",
   "metadata": {
    "id": "2GQINKqWHTaX"
   },
   "source": [
    "## HashSet"
   ]
  },
  {
   "cell_type": "code",
   "execution_count": null,
   "metadata": {
    "colab": {
     "base_uri": "https://localhost:8080/"
    },
    "id": "P39TeG1JHMZH",
    "outputId": "9b97f682-1b61-4ab7-a368-dfab00f895fe"
   },
   "outputs": [
    {
     "name": "stdout",
     "output_type": "stream",
     "text": [
      "{1, 2}\n",
      "2\n",
      "True\n",
      "{1}\n",
      "{0, 1, 2, 3, 4}\n"
     ]
    }
   ],
   "source": [
    "mySet=set() #no duplicates\n",
    "mySet.add(1)\n",
    "mySet.add(2)\n",
    "print(mySet)\n",
    "print(len(mySet))\n",
    "\n",
    "print(1 in mySet)\n",
    "\n",
    "mySet.remove(2)\n",
    "print(mySet)\n",
    "\n",
    "mySet= {i for i in range(5)}\n",
    "print(mySet)"
   ]
  },
  {
   "cell_type": "markdown",
   "metadata": {
    "id": "FvLeMK7TIZLq"
   },
   "source": [
    "## HashMap"
   ]
  },
  {
   "cell_type": "code",
   "execution_count": null,
   "metadata": {
    "colab": {
     "base_uri": "https://localhost:8080/"
    },
    "id": "ZUQ_DGfmIH0u",
    "outputId": "e5c428e9-9737-49dc-c437-a42df7df0aaa"
   },
   "outputs": [
    {
     "name": "stdout",
     "output_type": "stream",
     "text": [
      "{'sena': 20, 'bob': 89}\n",
      "2\n"
     ]
    }
   ],
   "source": [
    "myMap= {}\n",
    "myMap[\"sena\"]=20\n",
    "myMap[\"bob\"]=89\n",
    "print(myMap)\n",
    "print(len(myMap))"
   ]
  },
  {
   "cell_type": "code",
   "execution_count": null,
   "metadata": {
    "colab": {
     "base_uri": "https://localhost:8080/"
    },
    "id": "DnY0B2ciKjbj",
    "outputId": "b3cb03c8-f7cc-4296-8a15-73cd2acbd7b8"
   },
   "outputs": [
    {
     "name": "stdout",
     "output_type": "stream",
     "text": [
      "60\n",
      "False\n"
     ]
    }
   ],
   "source": [
    "myMap[\"sena\"]=60\n",
    "print(myMap[\"sena\"])\n",
    "myMap.pop(\"sena\")\n",
    "print(\"sena\" in myMap)"
   ]
  },
  {
   "cell_type": "code",
   "execution_count": null,
   "metadata": {
    "colab": {
     "base_uri": "https://localhost:8080/"
    },
    "id": "1PIiD_JtK6GE",
    "outputId": "ce7cf28a-6a69-4437-b4bf-0e4d72f41c77"
   },
   "outputs": [
    {
     "data": {
      "text/plain": [
       "{'sena': 79, 'bob': 69}"
      ]
     },
     "execution_count": 35,
     "metadata": {},
     "output_type": "execute_result"
    }
   ],
   "source": [
    "myMap={\"sena\":79,\"bob\":69}\n",
    "myMap"
   ]
  },
  {
   "cell_type": "code",
   "execution_count": null,
   "metadata": {
    "colab": {
     "base_uri": "https://localhost:8080/"
    },
    "id": "p7xbHlrcLFLJ",
    "outputId": "55fed6e1-592b-4f47-df3a-852f1b00f824"
   },
   "outputs": [
    {
     "data": {
      "text/plain": [
       "{0: 0, 1: 2, 2: 4}"
      ]
     },
     "execution_count": 36,
     "metadata": {},
     "output_type": "execute_result"
    }
   ],
   "source": [
    "# dictionary comp.\n",
    "myMap={i: i*2 for i in range(3)}\n",
    "myMap"
   ]
  },
  {
   "cell_type": "code",
   "execution_count": null,
   "metadata": {
    "colab": {
     "base_uri": "https://localhost:8080/"
    },
    "id": "AoudCraiLOE5",
    "outputId": "78b4d9bb-9741-4f21-d682-ff2c06a69566"
   },
   "outputs": [
    {
     "name": "stdout",
     "output_type": "stream",
     "text": [
      "sena 79\n",
      "bob 69\n",
      "79\n",
      "69\n",
      "sena 79\n",
      "bob 69\n"
     ]
    }
   ],
   "source": [
    "myMap={\"sena\":79,\"bob\":69}\n",
    "for key in myMap:\n",
    "  print(key,myMap[key])\n",
    "\n",
    "for val in myMap.values():\n",
    "  print(val)\n",
    "\n",
    "for key,val in myMap.items():\n",
    "  print(key,val)"
   ]
  },
  {
   "cell_type": "markdown",
   "metadata": {
    "id": "F2qC7mDmL0jn"
   },
   "source": [
    "## Tuples"
   ]
  },
  {
   "cell_type": "code",
   "execution_count": null,
   "metadata": {
    "colab": {
     "base_uri": "https://localhost:8080/"
    },
    "id": "-4ehMSx8Llaw",
    "outputId": "9874fad3-504a-4782-a892-202c6382869b"
   },
   "outputs": [
    {
     "name": "stdout",
     "output_type": "stream",
     "text": [
      "3\n",
      "True\n"
     ]
    }
   ],
   "source": [
    "tup=(1,2,3) #cant modify\n",
    "myMap= {(1,2):3}\n",
    "print(myMap[(1,2)])\n",
    "\n",
    "mySet=set()\n",
    "mySet.add((1,2))\n",
    "print((1,2) in mySet)"
   ]
  },
  {
   "cell_type": "markdown",
   "metadata": {
    "id": "hj_FqfC9MLAT"
   },
   "source": [
    "## Heaps"
   ]
  },
  {
   "cell_type": "code",
   "execution_count": null,
   "metadata": {
    "colab": {
     "base_uri": "https://localhost:8080/"
    },
    "id": "JDlXh6t0MHLV",
    "outputId": "13164084-42b7-457c-b991-c1172baa6745"
   },
   "outputs": [
    {
     "name": "stdout",
     "output_type": "stream",
     "text": [
      "[2, 3, 5]\n",
      "2\n",
      "3\n",
      "5\n"
     ]
    }
   ],
   "source": [
    "import heapq #default is min\n",
    "minHeap=[]\n",
    "heapq.heappush(minHeap,3)\n",
    "heapq.heappush(minHeap,2)\n",
    "heapq.heappush(minHeap,5)\n",
    "print(minHeap)\n",
    "\n",
    "while len(minHeap):\n",
    "  print(heapq.heappop(minHeap))"
   ]
  },
  {
   "cell_type": "code",
   "execution_count": null,
   "metadata": {
    "colab": {
     "base_uri": "https://localhost:8080/"
    },
    "id": "xYR5QVfcMdes",
    "outputId": "407091cb-6059-4e2d-fff0-0a87db9af8ae"
   },
   "outputs": [
    {
     "name": "stdout",
     "output_type": "stream",
     "text": [
      "5\n",
      "5\n",
      "3\n",
      "2\n"
     ]
    }
   ],
   "source": [
    "#for max heap\n",
    "maxHeap=[]\n",
    "heapq.heappush(maxHeap,-3)\n",
    "heapq.heappush(maxHeap,-2)\n",
    "heapq.heappush(maxHeap,-5)\n",
    "print(-1*maxHeap[0])\n",
    "while len(maxHeap):\n",
    "  print(-1*heapq.heappop(maxHeap))"
   ]
  },
  {
   "cell_type": "code",
   "execution_count": null,
   "metadata": {
    "colab": {
     "base_uri": "https://localhost:8080/"
    },
    "id": "KtaNBj0KM0aK",
    "outputId": "2efc0f27-951a-4e04-e8ba-f0b4df7c550f"
   },
   "outputs": [
    {
     "data": {
      "text/plain": [
       "[1, 2, 8, 4]"
      ]
     },
     "execution_count": 50,
     "metadata": {},
     "output_type": "execute_result"
    }
   ],
   "source": [
    "arr=[2,4,8,1]\n",
    "heapq.heapify(arr)\n",
    "arr"
   ]
  },
  {
   "cell_type": "markdown",
   "metadata": {
    "id": "KuIllkyCNhJa"
   },
   "source": [
    "## Functions"
   ]
  },
  {
   "cell_type": "code",
   "execution_count": null,
   "metadata": {
    "colab": {
     "base_uri": "https://localhost:8080/"
    },
    "id": "DKOBk7LLNUTC",
    "outputId": "a14d2d4e-ce62-4221-eb2b-e1d666e5bcff"
   },
   "outputs": [
    {
     "name": "stdout",
     "output_type": "stream",
     "text": [
      "6\n"
     ]
    }
   ],
   "source": [
    "def myFunc(n,m):\n",
    "  return n*m\n",
    "print(myFunc(2,3))"
   ]
  },
  {
   "cell_type": "markdown",
   "metadata": {
    "id": "ap5OJoRtNraP"
   },
   "source": [
    "## Nested Funcitons"
   ]
  },
  {
   "cell_type": "code",
   "execution_count": null,
   "metadata": {
    "colab": {
     "base_uri": "https://localhost:8080/"
    },
    "id": "8Dd0AXhMNpTp",
    "outputId": "ad00a0cc-e781-4464-cf36-958a109757fd"
   },
   "outputs": [
    {
     "name": "stdout",
     "output_type": "stream",
     "text": [
      "abc\n"
     ]
    }
   ],
   "source": [
    "def outer(a,b):\n",
    "  c=\"c\"\n",
    "  def inner():\n",
    "    return a+b+c\n",
    "  return inner()\n",
    "\n",
    "print(outer(\"a\",\"b\"))"
   ]
  },
  {
   "cell_type": "code",
   "execution_count": null,
   "metadata": {
    "colab": {
     "base_uri": "https://localhost:8080/"
    },
    "id": "gS3XZSBrPvUX",
    "outputId": "384ac758-a929-4dee-8e3f-c7dd23d940c4"
   },
   "outputs": [
    {
     "name": "stdout",
     "output_type": "stream",
     "text": [
      "[2, 4] 6\n"
     ]
    }
   ],
   "source": [
    "def double(arr,val):\n",
    "  def helper():\n",
    "    for i,n in enumerate(arr):\n",
    "      arr[i]*=2 # will modify only in helper scpoe\n",
    "    nonlocal val\n",
    "    val*=2 #modify outside helper scope\n",
    "  helper()\n",
    "  print(arr,val)\n",
    "\n",
    "nums=[1,2]\n",
    "val=3\n",
    "double(nums,val)"
   ]
  },
  {
   "cell_type": "markdown",
   "metadata": {
    "id": "khjoqmKRQu_B"
   },
   "source": [
    "## Class"
   ]
  },
  {
   "cell_type": "code",
   "execution_count": null,
   "metadata": {
    "colab": {
     "base_uri": "https://localhost:8080/"
    },
    "id": "Z0E-WVXbQn37",
    "outputId": "f9e51b5d-693f-46e6-dc2b-c3a97f198318"
   },
   "outputs": [
    {
     "data": {
      "text/plain": [
       "6"
      ]
     },
     "execution_count": 63,
     "metadata": {},
     "output_type": "execute_result"
    }
   ],
   "source": [
    "class myClass:\n",
    "  #constructor\n",
    "  def __init__(self,nums):\n",
    "    self.nums=nums\n",
    "    self.size=len(nums)\n",
    "  def getLength(self):\n",
    "    return self.size\n",
    "  def getDoubleLength(self):\n",
    "    return 2*self.getLength()\n",
    "\n",
    "b=[1,2,3]\n",
    "a=myClass(b)\n",
    "a.getLength()\n",
    "a.getDoubleLength()"
   ]
  }
 ],
 "metadata": {
  "colab": {
   "provenance": []
  },
  "kernelspec": {
   "display_name": "Python 3 (ipykernel)",
   "language": "python",
   "name": "python3"
  },
  "language_info": {
   "codemirror_mode": {
    "name": "ipython",
    "version": 3
   },
   "file_extension": ".py",
   "mimetype": "text/x-python",
   "name": "python",
   "nbconvert_exporter": "python",
   "pygments_lexer": "ipython3",
   "version": "3.9.12"
  }
 },
 "nbformat": 4,
 "nbformat_minor": 1
}
