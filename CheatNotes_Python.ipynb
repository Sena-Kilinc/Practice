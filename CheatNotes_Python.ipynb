{
  "nbformat": 4,
  "nbformat_minor": 0,
  "metadata": {
    "colab": {
      "provenance": []
    },
    "kernelspec": {
      "name": "python3",
      "display_name": "Python 3"
    },
    "language_info": {
      "name": "python"
    }
  },
  "cells": [
    {
      "cell_type": "markdown",
      "source": [
        "## Variables"
      ],
      "metadata": {
        "id": "VahMtzR6soOw"
      }
    },
    {
      "cell_type": "code",
      "execution_count": null,
      "metadata": {
        "colab": {
          "base_uri": "https://localhost:8080/"
        },
        "id": "yz0rCY7xsZkV",
        "outputId": "4e0b26ed-5689-4d04-b701-b4c7574f7a56"
      },
      "outputs": [
        {
          "output_type": "stream",
          "name": "stdout",
          "text": [
            "n = 0\n"
          ]
        }
      ],
      "source": [
        "n=0\n",
        "print('n =',n)"
      ]
    },
    {
      "cell_type": "code",
      "source": [
        "n=\"abc\"\n",
        "print(\"n =\",n)"
      ],
      "metadata": {
        "colab": {
          "base_uri": "https://localhost:8080/"
        },
        "id": "rk7cGoNuszCC",
        "outputId": "39d20dc6-0af5-49c8-e965-4171ed8ebb49"
      },
      "execution_count": null,
      "outputs": [
        {
          "output_type": "stream",
          "name": "stdout",
          "text": [
            "n = abc\n"
          ]
        }
      ]
    },
    {
      "cell_type": "code",
      "source": [
        "n,m=0,\"abc\"\n",
        "print(n, m)\n",
        "n +=1\n",
        "n"
      ],
      "metadata": {
        "colab": {
          "base_uri": "https://localhost:8080/"
        },
        "id": "_a7QvR44s22q",
        "outputId": "7fa1b26a-368b-4f15-c96b-72e542280816"
      },
      "execution_count": null,
      "outputs": [
        {
          "output_type": "stream",
          "name": "stdout",
          "text": [
            "0 abc\n"
          ]
        },
        {
          "output_type": "execute_result",
          "data": {
            "text/plain": [
              "1"
            ]
          },
          "metadata": {},
          "execution_count": 6
        }
      ]
    },
    {
      "cell_type": "code",
      "source": [
        "print(5/2,5//2)\n",
        "print(10%3)"
      ],
      "metadata": {
        "colab": {
          "base_uri": "https://localhost:8080/"
        },
        "id": "6zJPYrFE1TwE",
        "outputId": "ce760d48-985c-450f-ab14-ed6a817c0d64"
      },
      "execution_count": null,
      "outputs": [
        {
          "output_type": "stream",
          "name": "stdout",
          "text": [
            "2.5 2\n",
            "1\n"
          ]
        }
      ]
    },
    {
      "cell_type": "markdown",
      "source": [
        "## Math"
      ],
      "metadata": {
        "id": "_rr1Ax7J2CIG"
      }
    },
    {
      "cell_type": "code",
      "source": [
        "import math\n",
        "print(math.floor(3/2))\n",
        "print(math.ceil(3/2))\n",
        "print(math.sqrt(4))\n",
        "print(math.pow(2,3))"
      ],
      "metadata": {
        "colab": {
          "base_uri": "https://localhost:8080/"
        },
        "id": "wIhWRUku1rCK",
        "outputId": "ad57347e-d665-45d3-94c6-9deb8bba649d"
      },
      "execution_count": null,
      "outputs": [
        {
          "output_type": "stream",
          "name": "stdout",
          "text": [
            "1\n",
            "2\n",
            "2.0\n",
            "8.0\n"
          ]
        }
      ]
    },
    {
      "cell_type": "markdown",
      "source": [
        "## If Statements"
      ],
      "metadata": {
        "id": "_kDtb8TTtGRw"
      }
    },
    {
      "cell_type": "code",
      "source": [
        "n =3\n",
        "if n>2:\n",
        "  n-=1\n",
        "elif n==2:\n",
        "  n*=2\n",
        "else:\n",
        "  n+=2\n",
        "print(n)"
      ],
      "metadata": {
        "colab": {
          "base_uri": "https://localhost:8080/"
        },
        "id": "BcdUiC1_tDdw",
        "outputId": "46e5b714-ba8c-4e4d-9f73-63b8455de97c"
      },
      "execution_count": null,
      "outputs": [
        {
          "output_type": "execute_result",
          "data": {
            "text/plain": [
              "2"
            ]
          },
          "metadata": {},
          "execution_count": 10
        }
      ]
    },
    {
      "cell_type": "code",
      "source": [
        "# For Multi-Line conditions u can use  and(&) , or(|)\n",
        "n,m=3,2\n",
        "if  (n>2) & (n!=m):\n",
        "  print(n*m)"
      ],
      "metadata": {
        "colab": {
          "base_uri": "https://localhost:8080/"
        },
        "id": "4ykbPV37uw9s",
        "outputId": "e4d3daee-fe58-48e1-b9ea-b0ff25401b99"
      },
      "execution_count": null,
      "outputs": [
        {
          "output_type": "stream",
          "name": "stdout",
          "text": [
            "6\n"
          ]
        }
      ]
    },
    {
      "cell_type": "markdown",
      "source": [
        "## Loops"
      ],
      "metadata": {
        "id": "MpeaCUQ3uR3v"
      }
    },
    {
      "cell_type": "code",
      "source": [
        "n=0\n",
        "while n<5:\n",
        "  print(n,end=\" \")\n",
        "  n+=1"
      ],
      "metadata": {
        "colab": {
          "base_uri": "https://localhost:8080/"
        },
        "id": "VisMBjdevVJE",
        "outputId": "ebee487e-dafd-4a59-c6b1-00a6bc22870e"
      },
      "execution_count": null,
      "outputs": [
        {
          "output_type": "stream",
          "name": "stdout",
          "text": [
            "0 1 2 3 4 "
          ]
        }
      ]
    },
    {
      "cell_type": "code",
      "source": [
        "for i in range(n):\n",
        "  print(i,end=\" \")"
      ],
      "metadata": {
        "colab": {
          "base_uri": "https://localhost:8080/"
        },
        "id": "PtnxgVO8zsQg",
        "outputId": "b38e3ed5-c2b7-4153-cad7-1daadcde3235"
      },
      "execution_count": null,
      "outputs": [
        {
          "output_type": "stream",
          "name": "stdout",
          "text": [
            "0 1 2 3 4 "
          ]
        }
      ]
    },
    {
      "cell_type": "code",
      "source": [
        "for i in range(2,6):\n",
        "  print(i,end=\" \")"
      ],
      "metadata": {
        "colab": {
          "base_uri": "https://localhost:8080/"
        },
        "id": "ONrJDayO0xaJ",
        "outputId": "95eb6b36-0502-4c6c-b49f-9a8a296ee0e0"
      },
      "execution_count": null,
      "outputs": [
        {
          "output_type": "stream",
          "name": "stdout",
          "text": [
            "2 3 4 5 "
          ]
        }
      ]
    },
    {
      "cell_type": "code",
      "source": [
        "for i in range(2,10,2):\n",
        "  print(i,end=\" \") # increments"
      ],
      "metadata": {
        "colab": {
          "base_uri": "https://localhost:8080/"
        },
        "id": "nK4Kfo4m08Yv",
        "outputId": "5da2ed23-6e41-4832-de11-c527debf11ef"
      },
      "execution_count": null,
      "outputs": [
        {
          "output_type": "stream",
          "name": "stdout",
          "text": [
            "2 4 6 8 "
          ]
        }
      ]
    },
    {
      "cell_type": "code",
      "source": [
        "for i in range(3,0,-1): #decrement\n",
        "  print(i,end=\" \")"
      ],
      "metadata": {
        "colab": {
          "base_uri": "https://localhost:8080/"
        },
        "id": "RxrpfPHY1ARF",
        "outputId": "f903b243-b2b8-4950-cf3c-01386a07bc8d"
      },
      "execution_count": null,
      "outputs": [
        {
          "output_type": "stream",
          "name": "stdout",
          "text": [
            "3 2 1 "
          ]
        }
      ]
    },
    {
      "cell_type": "code",
      "source": [
        "nums=[1,2,3,4,5,6]\n",
        "for i in nums:\n",
        "  print(i,end=\" \")"
      ],
      "metadata": {
        "colab": {
          "base_uri": "https://localhost:8080/"
        },
        "id": "sJdFylzcHraE",
        "outputId": "9b061f2b-c865-4c48-dc50-5cf79e9e5357"
      },
      "execution_count": null,
      "outputs": [
        {
          "output_type": "stream",
          "name": "stdout",
          "text": [
            "1 2 3 4 5 6 "
          ]
        }
      ]
    },
    {
      "cell_type": "markdown",
      "source": [
        "## Arrays"
      ],
      "metadata": {
        "id": "z44rM0RV2GrX"
      }
    },
    {
      "cell_type": "code",
      "source": [
        "arr = [1,2,3]\n",
        "arr.append(4)\n",
        "arr.append(6)\n",
        "arr.pop()\n",
        "print(arr)\n",
        "arr.insert(1,7)\n",
        "print(arr)"
      ],
      "metadata": {
        "colab": {
          "base_uri": "https://localhost:8080/"
        },
        "id": "iWKm68WZ2GPz",
        "outputId": "c223af1e-81e7-4c16-de71-44ac1a0a1a3b"
      },
      "execution_count": null,
      "outputs": [
        {
          "output_type": "stream",
          "name": "stdout",
          "text": [
            "[1, 2, 3, 4]\n",
            "[1, 7, 2, 3, 4]\n"
          ]
        }
      ]
    },
    {
      "cell_type": "code",
      "source": [
        "arr[0]=0\n",
        "arr[1]=1\n",
        "print(arr)"
      ],
      "metadata": {
        "colab": {
          "base_uri": "https://localhost:8080/"
        },
        "id": "rC5Wd1vo1FN1",
        "outputId": "2746f328-11f7-489c-af3d-931150695e29"
      },
      "execution_count": null,
      "outputs": [
        {
          "output_type": "stream",
          "name": "stdout",
          "text": [
            "[0, 1, 2, 3, 4]\n"
          ]
        }
      ]
    },
    {
      "cell_type": "code",
      "source": [
        "# Initialize arr of size n with default value of 1\n",
        "n=5\n",
        "arr= [1]*n\n",
        "print(arr)\n",
        "arr[4]=-2\n",
        "arr[-1]"
      ],
      "metadata": {
        "colab": {
          "base_uri": "https://localhost:8080/"
        },
        "id": "QaPb-_2U4Rzy",
        "outputId": "f39b1c9d-dc97-45ef-863f-73ac84c1a01f"
      },
      "execution_count": null,
      "outputs": [
        {
          "output_type": "stream",
          "name": "stdout",
          "text": [
            "[1, 1, 1, 1, 1]\n"
          ]
        },
        {
          "output_type": "execute_result",
          "data": {
            "text/plain": [
              "-2"
            ]
          },
          "metadata": {},
          "execution_count": 44
        }
      ]
    },
    {
      "cell_type": "code",
      "source": [
        "# sublists(slicing)\n",
        "arr = [1,2,3,4,5]\n",
        "arr[1:3]"
      ],
      "metadata": {
        "colab": {
          "base_uri": "https://localhost:8080/"
        },
        "id": "lvR-aPom4fla",
        "outputId": "73018ebf-e3f7-4c43-d348-b531380e52ec"
      },
      "execution_count": null,
      "outputs": [
        {
          "output_type": "execute_result",
          "data": {
            "text/plain": [
              "[2, 3]"
            ]
          },
          "metadata": {},
          "execution_count": 46
        }
      ]
    },
    {
      "cell_type": "code",
      "source": [
        "#unpacking\n",
        "a,b,c=[1,2,3]\n",
        "a,b,c"
      ],
      "metadata": {
        "colab": {
          "base_uri": "https://localhost:8080/"
        },
        "id": "hc3rbCRQHDcO",
        "outputId": "ae60c1b9-05a8-45d5-b041-063bf08250dc"
      },
      "execution_count": null,
      "outputs": [
        {
          "output_type": "execute_result",
          "data": {
            "text/plain": [
              "(1, 2, 3)"
            ]
          },
          "metadata": {},
          "execution_count": 47
        }
      ]
    },
    {
      "cell_type": "code",
      "source": [
        "# loop through\n",
        "nums=[1,2,3]\n",
        "for i in range(len(nums)):\n",
        "  print(nums[i],end=\" \")\n",
        "print()\n",
        "for n in nums:\n",
        "  print(n,end=\" \")\n",
        "print()\n",
        "for i,n in enumerate(nums):\n",
        "  print(i,n)"
      ],
      "metadata": {
        "colab": {
          "base_uri": "https://localhost:8080/"
        },
        "id": "x2wLP5DWHdwd",
        "outputId": "755163a4-9120-4ceb-cdfc-69bc5922d35e"
      },
      "execution_count": null,
      "outputs": [
        {
          "output_type": "stream",
          "name": "stdout",
          "text": [
            "1 2 3 \n",
            "1 2 3 \n",
            "0 1\n",
            "1 2\n",
            "2 3\n"
          ]
        }
      ]
    },
    {
      "cell_type": "code",
      "source": [
        "#loop through multiple arrays simultaneously\n",
        "nums1=[1,2,3]\n",
        "nums2=[5,6,7]\n",
        "for n1,n2 in zip(nums1,nums2):\n",
        "  print(n1,n2)"
      ],
      "metadata": {
        "id": "fqEskJxIH4Gk",
        "colab": {
          "base_uri": "https://localhost:8080/"
        },
        "outputId": "aad28c0c-d06f-4f4b-ad34-6674320cfca9"
      },
      "execution_count": null,
      "outputs": [
        {
          "output_type": "stream",
          "name": "stdout",
          "text": [
            "1 5\n",
            "2 6\n",
            "3 7\n"
          ]
        }
      ]
    },
    {
      "cell_type": "code",
      "source": [
        "# reverse\n",
        "nums=[1,2,3]\n",
        "nums.reverse()\n",
        "nums"
      ],
      "metadata": {
        "colab": {
          "base_uri": "https://localhost:8080/"
        },
        "id": "j5QfKdFxCnsA",
        "outputId": "e79e1a0a-3496-407d-a020-0b1c7b5e4682"
      },
      "execution_count": null,
      "outputs": [
        {
          "output_type": "execute_result",
          "data": {
            "text/plain": [
              "[3, 2, 1]"
            ]
          },
          "metadata": {},
          "execution_count": 4
        }
      ]
    },
    {
      "cell_type": "markdown",
      "source": [
        "## Sort"
      ],
      "metadata": {
        "id": "Dj6qjcdCDrjA"
      }
    },
    {
      "cell_type": "code",
      "source": [
        "arr=[8,2,6,3]\n",
        "arr.sort()\n",
        "print(arr)\n",
        "arr.sort(reverse=True)\n",
        "arr"
      ],
      "metadata": {
        "colab": {
          "base_uri": "https://localhost:8080/"
        },
        "id": "qnl-JPIRCwha",
        "outputId": "63281cad-13d2-430b-c3d6-418d251047ae"
      },
      "execution_count": null,
      "outputs": [
        {
          "output_type": "stream",
          "name": "stdout",
          "text": [
            "[2, 3, 6, 8]\n"
          ]
        },
        {
          "output_type": "execute_result",
          "data": {
            "text/plain": [
              "[8, 6, 3, 2]"
            ]
          },
          "metadata": {},
          "execution_count": 6
        }
      ]
    },
    {
      "cell_type": "code",
      "source": [
        "# custom sort by length of string\n",
        "arr=[\"sena\",\"ece\",\"asopdkjaspo\",\"asdfsa\"]\n",
        "arr.sort(key=lambda x:len(x))\n",
        "arr"
      ],
      "metadata": {
        "colab": {
          "base_uri": "https://localhost:8080/"
        },
        "id": "ofsRUUZEDqBf",
        "outputId": "d536e2db-2478-4862-f4b4-e6e7b46b3b5a"
      },
      "execution_count": null,
      "outputs": [
        {
          "output_type": "execute_result",
          "data": {
            "text/plain": [
              "['ece', 'sena', 'asdfsa', 'asopdkjaspo']"
            ]
          },
          "metadata": {},
          "execution_count": 9
        }
      ]
    },
    {
      "cell_type": "markdown",
      "source": [
        "## List compherension"
      ],
      "metadata": {
        "id": "dJs7B7PmETKh"
      }
    },
    {
      "cell_type": "code",
      "source": [
        "arr=[i+i for i in range(5)]\n",
        "arr"
      ],
      "metadata": {
        "colab": {
          "base_uri": "https://localhost:8080/"
        },
        "id": "rIOY9_uTEGLF",
        "outputId": "3bc5432c-cfd6-44f8-f3e1-5343e7f49ad4"
      },
      "execution_count": null,
      "outputs": [
        {
          "output_type": "execute_result",
          "data": {
            "text/plain": [
              "[0, 2, 4, 6, 8]"
            ]
          },
          "metadata": {},
          "execution_count": 10
        }
      ]
    },
    {
      "cell_type": "markdown",
      "source": [
        "## 2D arrays"
      ],
      "metadata": {
        "id": "XJK2MlNuFMoc"
      }
    },
    {
      "cell_type": "code",
      "source": [
        "arr=[[0]*4 for i in range(3)]\n",
        "arr"
      ],
      "metadata": {
        "colab": {
          "base_uri": "https://localhost:8080/"
        },
        "id": "QpWY7sa6FPDG",
        "outputId": "1af7abab-f207-4846-e31d-4c04ebc4c14c"
      },
      "execution_count": null,
      "outputs": [
        {
          "output_type": "execute_result",
          "data": {
            "text/plain": [
              "[[0, 0, 0, 0], [0, 0, 0, 0], [0, 0, 0, 0]]"
            ]
          },
          "metadata": {},
          "execution_count": 11
        }
      ]
    },
    {
      "cell_type": "markdown",
      "source": [
        "## Strings"
      ],
      "metadata": {
        "id": "YOGjJkZhFoGP"
      }
    },
    {
      "cell_type": "code",
      "source": [
        "# cant reassign\n",
        "s=\"abc\"\n",
        "print(s[1:])\n",
        "a=\"123\"\n",
        "print(int(a)+5)\n",
        "print(a+\"34\")\n",
        "## ASCII VALUE ord(\"a\")"
      ],
      "metadata": {
        "colab": {
          "base_uri": "https://localhost:8080/"
        },
        "id": "wjzGxBsDFF09",
        "outputId": "c10e5b17-92f8-4c34-e1fc-a00707ab6c0c"
      },
      "execution_count": null,
      "outputs": [
        {
          "output_type": "stream",
          "name": "stdout",
          "text": [
            "bc\n",
            "128\n",
            "12334\n"
          ]
        }
      ]
    },
    {
      "cell_type": "code",
      "source": [
        "arr=[\"ab\",'cd',\"ef\"]\n",
        "b=\"\".join(arr)\n",
        "print(b)"
      ],
      "metadata": {
        "colab": {
          "base_uri": "https://localhost:8080/"
        },
        "id": "gX8GKMayFvE5",
        "outputId": "8e08b1be-3b92-42f6-bb38-1505bc0b466b"
      },
      "execution_count": null,
      "outputs": [
        {
          "output_type": "stream",
          "name": "stdout",
          "text": [
            "abcdef\n"
          ]
        }
      ]
    },
    {
      "cell_type": "code",
      "source": [
        "a=\"I love my mom.\"\n",
        "a.split(\" \")"
      ],
      "metadata": {
        "colab": {
          "base_uri": "https://localhost:8080/"
        },
        "id": "c5ENgFRtGTNz",
        "outputId": "f3b15134-61a6-480a-c374-29d503566b0d"
      },
      "execution_count": null,
      "outputs": [
        {
          "output_type": "execute_result",
          "data": {
            "text/plain": [
              "['I', 'love', 'my', 'mom.']"
            ]
          },
          "metadata": {},
          "execution_count": 26
        }
      ]
    },
    {
      "cell_type": "markdown",
      "source": [
        "## Queue (double ended queue)"
      ],
      "metadata": {
        "id": "gHYwezYcGzk0"
      }
    },
    {
      "cell_type": "code",
      "source": [
        "from collections import deque\n",
        "queue=deque()\n",
        "queue.append(1)\n",
        "queue.append(2)\n",
        "print(queue)\n",
        "\n",
        "queue.popleft()\n",
        "print(queue)\n",
        "\n",
        "queue.appendleft(1)\n",
        "queue.pop()\n",
        "print(queue)"
      ],
      "metadata": {
        "colab": {
          "base_uri": "https://localhost:8080/"
        },
        "id": "TRzogwAEGfzB",
        "outputId": "659142d8-ba17-470a-ff17-4062e0f966c3"
      },
      "execution_count": null,
      "outputs": [
        {
          "output_type": "stream",
          "name": "stdout",
          "text": [
            "deque([1, 2])\n",
            "deque([2])\n",
            "deque([1])\n"
          ]
        }
      ]
    },
    {
      "cell_type": "markdown",
      "source": [
        "## HashSet"
      ],
      "metadata": {
        "id": "2GQINKqWHTaX"
      }
    },
    {
      "cell_type": "code",
      "source": [
        "mySet=set() #no duplicates\n",
        "mySet.add(1)\n",
        "mySet.add(2)\n",
        "print(mySet)\n",
        "print(len(mySet))\n",
        "\n",
        "print(1 in mySet)\n",
        "\n",
        "mySet.remove(2)\n",
        "print(mySet)\n",
        "\n",
        "mySet= {i for i in range(5)}\n",
        "print(mySet)"
      ],
      "metadata": {
        "colab": {
          "base_uri": "https://localhost:8080/"
        },
        "id": "P39TeG1JHMZH",
        "outputId": "9b97f682-1b61-4ab7-a368-dfab00f895fe"
      },
      "execution_count": null,
      "outputs": [
        {
          "output_type": "stream",
          "name": "stdout",
          "text": [
            "{1, 2}\n",
            "2\n",
            "True\n",
            "{1}\n",
            "{0, 1, 2, 3, 4}\n"
          ]
        }
      ]
    },
    {
      "cell_type": "markdown",
      "source": [
        "## HashMap"
      ],
      "metadata": {
        "id": "FvLeMK7TIZLq"
      }
    },
    {
      "cell_type": "code",
      "source": [
        "myMap= {}\n",
        "myMap[\"sena\"]=20\n",
        "myMap[\"bob\"]=89\n",
        "print(myMap)\n",
        "print(len(myMap))"
      ],
      "metadata": {
        "colab": {
          "base_uri": "https://localhost:8080/"
        },
        "id": "ZUQ_DGfmIH0u",
        "outputId": "e5c428e9-9737-49dc-c437-a42df7df0aaa"
      },
      "execution_count": null,
      "outputs": [
        {
          "output_type": "stream",
          "name": "stdout",
          "text": [
            "{'sena': 20, 'bob': 89}\n",
            "2\n"
          ]
        }
      ]
    },
    {
      "cell_type": "code",
      "source": [
        "myMap[\"sena\"]=60\n",
        "print(myMap[\"sena\"])\n",
        "myMap.pop(\"sena\")\n",
        "print(\"sena\" in myMap)"
      ],
      "metadata": {
        "colab": {
          "base_uri": "https://localhost:8080/"
        },
        "id": "DnY0B2ciKjbj",
        "outputId": "b3cb03c8-f7cc-4296-8a15-73cd2acbd7b8"
      },
      "execution_count": null,
      "outputs": [
        {
          "output_type": "stream",
          "name": "stdout",
          "text": [
            "60\n",
            "False\n"
          ]
        }
      ]
    },
    {
      "cell_type": "code",
      "source": [
        "myMap={\"sena\":79,\"bob\":69}\n",
        "myMap"
      ],
      "metadata": {
        "colab": {
          "base_uri": "https://localhost:8080/"
        },
        "id": "1PIiD_JtK6GE",
        "outputId": "ce7cf28a-6a69-4437-b4bf-0e4d72f41c77"
      },
      "execution_count": null,
      "outputs": [
        {
          "output_type": "execute_result",
          "data": {
            "text/plain": [
              "{'sena': 79, 'bob': 69}"
            ]
          },
          "metadata": {},
          "execution_count": 35
        }
      ]
    },
    {
      "cell_type": "code",
      "source": [
        "# dictionary comp.\n",
        "myMap={i: i*2 for i in range(3)}\n",
        "myMap"
      ],
      "metadata": {
        "colab": {
          "base_uri": "https://localhost:8080/"
        },
        "id": "p7xbHlrcLFLJ",
        "outputId": "55fed6e1-592b-4f47-df3a-852f1b00f824"
      },
      "execution_count": null,
      "outputs": [
        {
          "output_type": "execute_result",
          "data": {
            "text/plain": [
              "{0: 0, 1: 2, 2: 4}"
            ]
          },
          "metadata": {},
          "execution_count": 36
        }
      ]
    },
    {
      "cell_type": "code",
      "source": [
        "myMap={\"sena\":79,\"bob\":69}\n",
        "for key in myMap:\n",
        "  print(key,myMap[key])\n",
        "\n",
        "for val in myMap.values():\n",
        "  print(val)\n",
        "\n",
        "for key,val in myMap.items():\n",
        "  print(key,val)"
      ],
      "metadata": {
        "colab": {
          "base_uri": "https://localhost:8080/"
        },
        "id": "AoudCraiLOE5",
        "outputId": "78b4d9bb-9741-4f21-d682-ff2c06a69566"
      },
      "execution_count": null,
      "outputs": [
        {
          "output_type": "stream",
          "name": "stdout",
          "text": [
            "sena 79\n",
            "bob 69\n",
            "79\n",
            "69\n",
            "sena 79\n",
            "bob 69\n"
          ]
        }
      ]
    },
    {
      "cell_type": "markdown",
      "source": [
        "## Tuples"
      ],
      "metadata": {
        "id": "F2qC7mDmL0jn"
      }
    },
    {
      "cell_type": "code",
      "source": [
        "tup=(1,2,3) #cant modify\n",
        "myMap= {(1,2):3}\n",
        "print(myMap[(1,2)])\n",
        "\n",
        "mySet=set()\n",
        "mySet.add((1,2))\n",
        "print((1,2) in mySet)"
      ],
      "metadata": {
        "colab": {
          "base_uri": "https://localhost:8080/"
        },
        "id": "-4ehMSx8Llaw",
        "outputId": "9874fad3-504a-4782-a892-202c6382869b"
      },
      "execution_count": null,
      "outputs": [
        {
          "output_type": "stream",
          "name": "stdout",
          "text": [
            "3\n",
            "True\n"
          ]
        }
      ]
    },
    {
      "cell_type": "markdown",
      "source": [
        "## Heaps"
      ],
      "metadata": {
        "id": "hj_FqfC9MLAT"
      }
    },
    {
      "cell_type": "code",
      "source": [
        "import heapq #default is min\n",
        "minHeap=[]\n",
        "heapq.heappush(minHeap,3)\n",
        "heapq.heappush(minHeap,2)\n",
        "heapq.heappush(minHeap,5)\n",
        "print(minHeap)\n",
        "\n",
        "while len(minHeap):\n",
        "  print(heapq.heappop(minHeap))"
      ],
      "metadata": {
        "colab": {
          "base_uri": "https://localhost:8080/"
        },
        "id": "JDlXh6t0MHLV",
        "outputId": "13164084-42b7-457c-b991-c1172baa6745"
      },
      "execution_count": null,
      "outputs": [
        {
          "output_type": "stream",
          "name": "stdout",
          "text": [
            "[2, 3, 5]\n",
            "2\n",
            "3\n",
            "5\n"
          ]
        }
      ]
    },
    {
      "cell_type": "code",
      "source": [
        "#for max heap\n",
        "maxHeap=[]\n",
        "heapq.heappush(maxHeap,-3)\n",
        "heapq.heappush(maxHeap,-2)\n",
        "heapq.heappush(maxHeap,-5)\n",
        "print(-1*maxHeap[0])\n",
        "while len(maxHeap):\n",
        "  print(-1*heapq.heappop(maxHeap))"
      ],
      "metadata": {
        "colab": {
          "base_uri": "https://localhost:8080/"
        },
        "id": "xYR5QVfcMdes",
        "outputId": "407091cb-6059-4e2d-fff0-0a87db9af8ae"
      },
      "execution_count": null,
      "outputs": [
        {
          "output_type": "stream",
          "name": "stdout",
          "text": [
            "5\n",
            "5\n",
            "3\n",
            "2\n"
          ]
        }
      ]
    },
    {
      "cell_type": "code",
      "source": [
        "arr=[2,4,8,1]\n",
        "heapq.heapify(arr)\n",
        "arr"
      ],
      "metadata": {
        "colab": {
          "base_uri": "https://localhost:8080/"
        },
        "id": "KtaNBj0KM0aK",
        "outputId": "2efc0f27-951a-4e04-e8ba-f0b4df7c550f"
      },
      "execution_count": null,
      "outputs": [
        {
          "output_type": "execute_result",
          "data": {
            "text/plain": [
              "[1, 2, 8, 4]"
            ]
          },
          "metadata": {},
          "execution_count": 50
        }
      ]
    },
    {
      "cell_type": "markdown",
      "source": [
        "## Functions"
      ],
      "metadata": {
        "id": "KuIllkyCNhJa"
      }
    },
    {
      "cell_type": "code",
      "source": [
        "def myFunc(n,m):\n",
        "  return n*m\n",
        "print(myFunc(2,3))"
      ],
      "metadata": {
        "colab": {
          "base_uri": "https://localhost:8080/"
        },
        "id": "DKOBk7LLNUTC",
        "outputId": "a14d2d4e-ce62-4221-eb2b-e1d666e5bcff"
      },
      "execution_count": null,
      "outputs": [
        {
          "output_type": "stream",
          "name": "stdout",
          "text": [
            "6\n"
          ]
        }
      ]
    },
    {
      "cell_type": "markdown",
      "source": [
        "## Nested Funcitons"
      ],
      "metadata": {
        "id": "ap5OJoRtNraP"
      }
    },
    {
      "cell_type": "code",
      "source": [
        "def outer(a,b):\n",
        "  c=\"c\"\n",
        "  def inner():\n",
        "    return a+b+c\n",
        "  return inner()\n",
        "\n",
        "print(outer(\"a\",\"b\"))"
      ],
      "metadata": {
        "colab": {
          "base_uri": "https://localhost:8080/"
        },
        "id": "8Dd0AXhMNpTp",
        "outputId": "ad00a0cc-e781-4464-cf36-958a109757fd"
      },
      "execution_count": null,
      "outputs": [
        {
          "output_type": "stream",
          "name": "stdout",
          "text": [
            "abc\n"
          ]
        }
      ]
    },
    {
      "cell_type": "code",
      "source": [
        "def double(arr,val):\n",
        "  def helper():\n",
        "    for i,n in enumerate(arr):\n",
        "      arr[i]*=2 # will modify only in helper scpoe\n",
        "    nonlocal val\n",
        "    val*=2 #modify outside helper scope\n",
        "  helper()\n",
        "  print(arr,val)\n",
        "\n",
        "nums=[1,2]\n",
        "val=3\n",
        "double(nums,val)"
      ],
      "metadata": {
        "colab": {
          "base_uri": "https://localhost:8080/"
        },
        "id": "gS3XZSBrPvUX",
        "outputId": "384ac758-a929-4dee-8e3f-c7dd23d940c4"
      },
      "execution_count": null,
      "outputs": [
        {
          "output_type": "stream",
          "name": "stdout",
          "text": [
            "[2, 4] 6\n"
          ]
        }
      ]
    },
    {
      "cell_type": "markdown",
      "source": [
        "## Class"
      ],
      "metadata": {
        "id": "khjoqmKRQu_B"
      }
    },
    {
      "cell_type": "code",
      "source": [
        "class myClass:\n",
        "  #constructor\n",
        "  def __init__(self,nums):\n",
        "    self.nums=nums\n",
        "    self.size=len(nums)\n",
        "  def getLength(self):\n",
        "    return self.size\n",
        "  def getDoubleLength(self):\n",
        "    return 2*self.getLength()\n",
        "\n",
        "b=[1,2,3]\n",
        "a=myClass(b)\n",
        "a.getLength()\n",
        "a.getDoubleLength()"
      ],
      "metadata": {
        "colab": {
          "base_uri": "https://localhost:8080/"
        },
        "id": "Z0E-WVXbQn37",
        "outputId": "f9e51b5d-693f-46e6-dc2b-c3a97f198318"
      },
      "execution_count": null,
      "outputs": [
        {
          "output_type": "execute_result",
          "data": {
            "text/plain": [
              "6"
            ]
          },
          "metadata": {},
          "execution_count": 63
        }
      ]
    }
  ]
}