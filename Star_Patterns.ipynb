{
 "cells": [
  {
   "cell_type": "markdown",
   "metadata": {
    "id": "8SUPS7ukeIQr"
   },
   "source": [
    "## Star Pattern\n",
    "\n",
    "\n",
    "*   def pattern or\n",
    "*   n= inT(input('nums:'))\n",
    "*   nested loops\n"
   ]
  },
  {
   "cell_type": "code",
   "execution_count": 1,
   "metadata": {
    "colab": {
     "base_uri": "https://localhost:8080/"
    },
    "id": "6Efp53qOd9sZ",
    "outputId": "489c32b6-e6db-4e2d-b6f9-20f65da00806"
   },
   "outputs": [
    {
     "name": "stdout",
     "output_type": "stream",
     "text": [
      "*\n",
      "*\n",
      "*\n",
      "*\n",
      "*\n"
     ]
    }
   ],
   "source": [
    "n=5\n",
    "for i in range(n):\n",
    "  print('*')"
   ]
  },
  {
   "cell_type": "code",
   "execution_count": 2,
   "metadata": {
    "colab": {
     "base_uri": "https://localhost:8080/"
    },
    "id": "TSX0ZVaJe2nd",
    "outputId": "7b67daab-b732-4022-a755-c6367c664fe1"
   },
   "outputs": [
    {
     "name": "stdout",
     "output_type": "stream",
     "text": [
      "*****"
     ]
    }
   ],
   "source": [
    "n=5\n",
    "for i in range(n):\n",
    "  print('*',end='')"
   ]
  },
  {
   "cell_type": "code",
   "execution_count": 3,
   "metadata": {
    "colab": {
     "base_uri": "https://localhost:8080/"
    },
    "id": "A2keImYge6rb",
    "outputId": "3efac02b-11a8-46a0-863e-d0a7cee81f55"
   },
   "outputs": [
    {
     "name": "stdout",
     "output_type": "stream",
     "text": [
      "*************************"
     ]
    }
   ],
   "source": [
    "n=5\n",
    "for i in range(n):\n",
    "  for j in range(n):\n",
    "    print('*',end='')"
   ]
  },
  {
   "cell_type": "markdown",
   "metadata": {
    "id": "USF-4w-anrrp"
   },
   "source": [
    "## Square Pattern"
   ]
  },
  {
   "cell_type": "code",
   "execution_count": 6,
   "metadata": {
    "colab": {
     "base_uri": "https://localhost:8080/"
    },
    "id": "YYrAq2qmlLZi",
    "outputId": "7a2b1208-23cb-4983-a54f-9454c8520c9f"
   },
   "outputs": [
    {
     "name": "stdout",
     "output_type": "stream",
     "text": [
      "* * * * * \n",
      "* * * * * \n",
      "* * * * * \n",
      "* * * * * \n",
      "* * * * * \n"
     ]
    }
   ],
   "source": [
    "n=5\n",
    "for i in range(n): # DETERMINES ROWS\n",
    "  for j in range(n):  # DETERMINES COLUMNS\n",
    "    print('*',end=' ')\n",
    "  print()"
   ]
  },
  {
   "cell_type": "markdown",
   "metadata": {
    "id": "Vcgat7nxlzi0"
   },
   "source": [
    "## Increasing Triangle Pattern"
   ]
  },
  {
   "cell_type": "code",
   "execution_count": 2,
   "metadata": {
    "colab": {
     "base_uri": "https://localhost:8080/"
    },
    "id": "faFfJWSolWZQ",
    "outputId": "ae46fa10-92fd-4a90-ba0f-8b695c01e542"
   },
   "outputs": [
    {
     "name": "stdout",
     "output_type": "stream",
     "text": [
      "* \n",
      "* * \n",
      "* * * \n",
      "* * * * \n",
      "* * * * * \n"
     ]
    }
   ],
   "source": [
    "n=5\n",
    "for i in range(n):  \n",
    "  for j in range(i+1):  # starts\n",
    "    print('*',end=' ')\n",
    "  print()"
   ]
  },
  {
   "cell_type": "markdown",
   "metadata": {
    "id": "80IxhjfhnozC"
   },
   "source": [
    "## Decreasing Triangle Pattern"
   ]
  },
  {
   "cell_type": "code",
   "execution_count": 8,
   "metadata": {
    "colab": {
     "base_uri": "https://localhost:8080/"
    },
    "id": "gnNFmvAwmsuR",
    "outputId": "a6baaae5-64a3-4d0e-d5eb-f55c93ae00df"
   },
   "outputs": [
    {
     "name": "stdout",
     "output_type": "stream",
     "text": [
      "* * * * * \n",
      "* * * * \n",
      "* * * \n",
      "* * \n",
      "* \n"
     ]
    }
   ],
   "source": [
    "n=5\n",
    "for i in range(n):\n",
    "  for j in range(n-i):  # starts\n",
    "    print('*',end=' ')\n",
    "  print()"
   ]
  },
  {
   "cell_type": "markdown",
   "metadata": {
    "id": "mgOjzzRi3Xs7"
   },
   "source": [
    "## Right Sided triangle"
   ]
  },
  {
   "cell_type": "code",
   "execution_count": 13,
   "metadata": {
    "colab": {
     "base_uri": "https://localhost:8080/"
    },
    "id": "5m7SFFVTm1fv",
    "outputId": "eefadfca-6ef0-46b4-d4ac-3e3f5c286165"
   },
   "outputs": [
    {
     "name": "stdout",
     "output_type": "stream",
     "text": [
      "        * \n",
      "      * * \n",
      "    * * * \n",
      "  * * * * \n",
      "* * * * * \n"
     ]
    }
   ],
   "source": [
    "n=5\n",
    "for i in range(n):\n",
    "  for j in range(i+1,n):  # HER ZAMAN İLK ÖNCE BOŞLUK\n",
    "    print(' ',end=' ')\n",
    "  for k in range(i+1):\n",
    "    print(\"*\",end=' ')\n",
    "  print()"
   ]
  },
  {
   "cell_type": "code",
   "execution_count": 16,
   "metadata": {
    "colab": {
     "base_uri": "https://localhost:8080/"
    },
    "id": "IuFZzTZF2Lej",
    "outputId": "3dcbc3e1-fb54-4a2e-f0e6-2f501bc776c4"
   },
   "outputs": [
    {
     "name": "stdout",
     "output_type": "stream",
     "text": [
      "* * * * * \n",
      "  * * * * \n",
      "    * * * \n",
      "      * * \n",
      "        * \n"
     ]
    }
   ],
   "source": [
    "n=5\n",
    "for i in range(n):\n",
    "  for k in range(i):\n",
    "    print(\" \",end=' ')\n",
    "  for j in range(n-i):  # starts n-i-1\n",
    "    print('*',end=' ')\n",
    "  print()"
   ]
  },
  {
   "cell_type": "markdown",
   "metadata": {
    "id": "NDhzddBD4PxF"
   },
   "source": [
    "## Hill Pattern"
   ]
  },
  {
   "cell_type": "code",
   "execution_count": 20,
   "metadata": {
    "colab": {
     "base_uri": "https://localhost:8080/"
    },
    "id": "uO0BAp0h3xZu",
    "outputId": "cdd5e4be-89cc-4598-946e-88724deec16a"
   },
   "outputs": [
    {
     "name": "stdout",
     "output_type": "stream",
     "text": [
      "        * \n",
      "      * * * \n",
      "    * * * * * \n",
      "  * * * * * * * \n",
      "* * * * * * * * * \n"
     ]
    }
   ],
   "source": [
    "n=5\n",
    "for i in range(n):\n",
    "  for j in range(i+1,n):  # starts n-i-1\n",
    "    print(' ',end=' ')\n",
    "  for k in range(i+1):\n",
    "    print(\"*\",end=' ')\n",
    "  for j in range(i):  # bunu üstten aldım 1 azalt double olayını sil\n",
    "    print('*',end=' ')\n",
    "  print()"
   ]
  },
  {
   "cell_type": "code",
   "execution_count": 4,
   "metadata": {},
   "outputs": [
    {
     "name": "stdout",
     "output_type": "stream",
     "text": [
      "* * * * * * * * * \n",
      "  * * * * * * * \n",
      "    * * * * * \n",
      "      * * * \n",
      "        * \n"
     ]
    }
   ],
   "source": [
    "n=5\n",
    "for i in range(n):\n",
    "  for j in range(i):  \n",
    "    print(' ',end=' ')\n",
    "  for k in range(n-i):\n",
    "    print(\"*\",end=' ')\n",
    "  for j in range(n-i-1):  \n",
    "    print('*',end=' ')\n",
    "  print()"
   ]
  },
  {
   "cell_type": "markdown",
   "metadata": {
    "id": "5ejixaoY6KNU"
   },
   "source": [
    "## Diamond Pattern"
   ]
  },
  {
   "cell_type": "code",
   "execution_count": 6,
   "metadata": {
    "colab": {
     "base_uri": "https://localhost:8080/"
    },
    "id": "8bCHdtfD52g-",
    "outputId": "da3e3886-29a5-4cb7-b514-63eaa7b1f598"
   },
   "outputs": [
    {
     "name": "stdout",
     "output_type": "stream",
     "text": [
      "        * \n",
      "      * * * \n",
      "    * * * * * \n",
      "  * * * * * * * \n",
      "* * * * * * * * * \n",
      "  * * * * * * * \n",
      "    * * * * * \n",
      "      * * * \n",
      "        * \n"
     ]
    }
   ],
   "source": [
    "n=5\n",
    "for i in range(n-1):  # double row elimination\n",
    "  for j in range(i+1,n):  # starts n-i-1\n",
    "    print(' ',end=' ')\n",
    "  for k in range(i+1):\n",
    "    print(\"*\",end=' ')\n",
    "  for j in range(i):  \n",
    "    print('*',end=' ')\n",
    "  print()\n",
    "for i in range(n):\n",
    "  for j in range(i):  \n",
    "    print(' ',end=' ')\n",
    "  for k in range(n-i):\n",
    "    print(\"*\",end=' ')\n",
    "  for j in range(n-i-1):  \n",
    "    print('*',end=' ')\n",
    "  print()"
   ]
  },
  {
   "cell_type": "code",
   "execution_count": null,
   "metadata": {
    "id": "ygo9-gd26O9n"
   },
   "outputs": [],
   "source": []
  }
 ],
 "metadata": {
  "colab": {
   "provenance": []
  },
  "kernelspec": {
   "display_name": "Python 3 (ipykernel)",
   "language": "python",
   "name": "python3"
  },
  "language_info": {
   "codemirror_mode": {
    "name": "ipython",
    "version": 3
   },
   "file_extension": ".py",
   "mimetype": "text/x-python",
   "name": "python",
   "nbconvert_exporter": "python",
   "pygments_lexer": "ipython3",
   "version": "3.9.12"
  }
 },
 "nbformat": 4,
 "nbformat_minor": 1
}
