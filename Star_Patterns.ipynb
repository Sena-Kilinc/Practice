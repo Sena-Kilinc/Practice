{
  "nbformat": 4,
  "nbformat_minor": 0,
  "metadata": {
    "colab": {
      "provenance": []
    },
    "kernelspec": {
      "name": "python3",
      "display_name": "Python 3"
    },
    "language_info": {
      "name": "python"
    }
  },
  "cells": [
    {
      "cell_type": "markdown",
      "source": [
        "## Star Pattern\n",
        "\n",
        "\n",
        "*   def pattern or\n",
        "*   n= inT(input('nums:'))\n",
        "*   nested loops\n"
      ],
      "metadata": {
        "id": "8SUPS7ukeIQr"
      }
    },
    {
      "cell_type": "code",
      "execution_count": 1,
      "metadata": {
        "colab": {
          "base_uri": "https://localhost:8080/"
        },
        "id": "6Efp53qOd9sZ",
        "outputId": "489c32b6-e6db-4e2d-b6f9-20f65da00806"
      },
      "outputs": [
        {
          "output_type": "stream",
          "name": "stdout",
          "text": [
            "*\n",
            "*\n",
            "*\n",
            "*\n",
            "*\n"
          ]
        }
      ],
      "source": [
        "n=5\n",
        "for i in range(n):\n",
        "  print('*')"
      ]
    },
    {
      "cell_type": "code",
      "source": [
        "n=5\n",
        "for i in range(n):\n",
        "  print('*',end='')"
      ],
      "metadata": {
        "colab": {
          "base_uri": "https://localhost:8080/"
        },
        "id": "TSX0ZVaJe2nd",
        "outputId": "7b67daab-b732-4022-a755-c6367c664fe1"
      },
      "execution_count": 2,
      "outputs": [
        {
          "output_type": "stream",
          "name": "stdout",
          "text": [
            "*****"
          ]
        }
      ]
    },
    {
      "cell_type": "code",
      "source": [
        "n=5\n",
        "for i in range(n):\n",
        "  for j in range(n):\n",
        "    print('*',end='')"
      ],
      "metadata": {
        "colab": {
          "base_uri": "https://localhost:8080/"
        },
        "id": "A2keImYge6rb",
        "outputId": "3efac02b-11a8-46a0-863e-d0a7cee81f55"
      },
      "execution_count": 3,
      "outputs": [
        {
          "output_type": "stream",
          "name": "stdout",
          "text": [
            "*************************"
          ]
        }
      ]
    },
    {
      "cell_type": "markdown",
      "source": [
        "## Square Pattern"
      ],
      "metadata": {
        "id": "USF-4w-anrrp"
      }
    },
    {
      "cell_type": "code",
      "source": [
        "n=5\n",
        "for i in range(n): # DETERMINES ROWS\n",
        "  for j in range(n):  # DETERMINES COLUMNS\n",
        "    print('*',end=' ')\n",
        "  print()"
      ],
      "metadata": {
        "colab": {
          "base_uri": "https://localhost:8080/"
        },
        "id": "YYrAq2qmlLZi",
        "outputId": "7a2b1208-23cb-4983-a54f-9454c8520c9f"
      },
      "execution_count": 6,
      "outputs": [
        {
          "output_type": "stream",
          "name": "stdout",
          "text": [
            "* * * * * \n",
            "* * * * * \n",
            "* * * * * \n",
            "* * * * * \n",
            "* * * * * \n"
          ]
        }
      ]
    },
    {
      "cell_type": "markdown",
      "source": [
        "## Increasing Triangle Pattern"
      ],
      "metadata": {
        "id": "Vcgat7nxlzi0"
      }
    },
    {
      "cell_type": "code",
      "source": [
        "n=5\n",
        "for i in range(n):  \n",
        "  for j in range(i+1):  # starts\n",
        "    print('*',end=' ')\n",
        "  print()"
      ],
      "metadata": {
        "colab": {
          "base_uri": "https://localhost:8080/"
        },
        "id": "faFfJWSolWZQ",
        "outputId": "ae46fa10-92fd-4a90-ba0f-8b695c01e542"
      },
      "execution_count": 7,
      "outputs": [
        {
          "output_type": "stream",
          "name": "stdout",
          "text": [
            "* \n",
            "* * \n",
            "* * * \n",
            "* * * * \n",
            "* * * * * \n"
          ]
        }
      ]
    },
    {
      "cell_type": "markdown",
      "source": [
        "## Decreasing Triangle Pattern"
      ],
      "metadata": {
        "id": "80IxhjfhnozC"
      }
    },
    {
      "cell_type": "code",
      "source": [
        "n=5\n",
        "for i in range(n):\n",
        "  for j in range(n-i):  # starts\n",
        "    print('*',end=' ')\n",
        "  print()"
      ],
      "metadata": {
        "colab": {
          "base_uri": "https://localhost:8080/"
        },
        "id": "gnNFmvAwmsuR",
        "outputId": "a6baaae5-64a3-4d0e-d5eb-f55c93ae00df"
      },
      "execution_count": 8,
      "outputs": [
        {
          "output_type": "stream",
          "name": "stdout",
          "text": [
            "* * * * * \n",
            "* * * * \n",
            "* * * \n",
            "* * \n",
            "* \n"
          ]
        }
      ]
    },
    {
      "cell_type": "markdown",
      "source": [
        "## Right Sided triangle"
      ],
      "metadata": {
        "id": "mgOjzzRi3Xs7"
      }
    },
    {
      "cell_type": "code",
      "source": [
        "n=5\n",
        "for i in range(n):\n",
        "  for j in range(i+1,n):  # starts n-i-1\n",
        "    print(' ',end=' ')\n",
        "  for k in range(i+1):\n",
        "    print(\"*\",end=' ')\n",
        "  print()"
      ],
      "metadata": {
        "colab": {
          "base_uri": "https://localhost:8080/"
        },
        "id": "5m7SFFVTm1fv",
        "outputId": "eefadfca-6ef0-46b4-d4ac-3e3f5c286165"
      },
      "execution_count": 13,
      "outputs": [
        {
          "output_type": "stream",
          "name": "stdout",
          "text": [
            "        * \n",
            "      * * \n",
            "    * * * \n",
            "  * * * * \n",
            "* * * * * \n"
          ]
        }
      ]
    },
    {
      "cell_type": "code",
      "source": [
        "n=5\n",
        "for i in range(n):\n",
        "  for k in range(i):\n",
        "    print(\" \",end=' ')\n",
        "  for j in range(n-i):  # starts n-i-1\n",
        "    print('*',end=' ')\n",
        "  print()"
      ],
      "metadata": {
        "colab": {
          "base_uri": "https://localhost:8080/"
        },
        "id": "IuFZzTZF2Lej",
        "outputId": "3dcbc3e1-fb54-4a2e-f0e6-2f501bc776c4"
      },
      "execution_count": 16,
      "outputs": [
        {
          "output_type": "stream",
          "name": "stdout",
          "text": [
            "* * * * * \n",
            "  * * * * \n",
            "    * * * \n",
            "      * * \n",
            "        * \n"
          ]
        }
      ]
    },
    {
      "cell_type": "markdown",
      "source": [
        "## Hill Pattern"
      ],
      "metadata": {
        "id": "NDhzddBD4PxF"
      }
    },
    {
      "cell_type": "code",
      "source": [
        "n=5\n",
        "for i in range(n):\n",
        "  for j in range(i+1,n):  # starts n-i-1\n",
        "    print(' ',end=' ')\n",
        "  for k in range(i+1):\n",
        "    print(\"*\",end=' ')\n",
        "  for j in range(i):  # bunu üstten aldım 1 azalt double olayını sil\n",
        "    print('*',end=' ')\n",
        "  print()"
      ],
      "metadata": {
        "colab": {
          "base_uri": "https://localhost:8080/"
        },
        "id": "uO0BAp0h3xZu",
        "outputId": "cdd5e4be-89cc-4598-946e-88724deec16a"
      },
      "execution_count": 20,
      "outputs": [
        {
          "output_type": "stream",
          "name": "stdout",
          "text": [
            "        * \n",
            "      * * * \n",
            "    * * * * * \n",
            "  * * * * * * * \n",
            "* * * * * * * * * \n"
          ]
        }
      ]
    },
    {
      "cell_type": "code",
      "source": [
        "n=5\n",
        "for i in range(n):\n",
        "  for j in range(i):  # starts n-i-1\n",
        "    print(' ',end=' ')\n",
        "  for k in range(n-i):\n",
        "    print(\"*\",end=' ')\n",
        "  for j in range(n-i-1):  # bunu üstten aldım 1 azalt double olayını sil\n",
        "    print('*',end=' ')\n",
        "  print()"
      ],
      "metadata": {
        "colab": {
          "base_uri": "https://localhost:8080/"
        },
        "id": "Xb-MNU4q4wa_",
        "outputId": "88fec687-5081-46db-f001-d5762f2d133b"
      },
      "execution_count": 22,
      "outputs": [
        {
          "output_type": "stream",
          "name": "stdout",
          "text": [
            "* * * * * * * * * \n",
            "  * * * * * * * \n",
            "    * * * * * \n",
            "      * * * \n",
            "        * \n"
          ]
        }
      ]
    },
    {
      "cell_type": "markdown",
      "source": [
        "## Diamond Pattern"
      ],
      "metadata": {
        "id": "5ejixaoY6KNU"
      }
    },
    {
      "cell_type": "code",
      "source": [
        "n=5\n",
        "for i in range(n-1):  # double row elimination\n",
        "  for j in range(i+1,n):  # starts n-i-1\n",
        "    print(' ',end=' ')\n",
        "  for k in range(i+1):\n",
        "    print(\"*\",end=' ')\n",
        "  for j in range(i):  \n",
        "    print('*',end=' ')\n",
        "  print()\n",
        "for i in range(n):\n",
        "  for j in range(i):  # starts n-i-1\n",
        "    print(' ',end=' ')\n",
        "  for k in range(n-i):\n",
        "    print(\"*\",end=' ')\n",
        "  for j in range(n-i-1):  \n",
        "    print('*',end=' ')\n",
        "  print()"
      ],
      "metadata": {
        "colab": {
          "base_uri": "https://localhost:8080/"
        },
        "id": "8bCHdtfD52g-",
        "outputId": "da3e3886-29a5-4cb7-b514-63eaa7b1f598"
      },
      "execution_count": 27,
      "outputs": [
        {
          "output_type": "stream",
          "name": "stdout",
          "text": [
            "        * \n",
            "      * * * \n",
            "    * * * * * \n",
            "  * * * * * * * \n",
            "* * * * * * * * * \n",
            "  * * * * * * * \n",
            "    * * * * * \n",
            "      * * * \n",
            "        * \n"
          ]
        }
      ]
    },
    {
      "cell_type": "code",
      "source": [],
      "metadata": {
        "id": "ygo9-gd26O9n"
      },
      "execution_count": null,
      "outputs": []
    }
  ]
}