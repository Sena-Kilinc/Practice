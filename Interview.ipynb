{
 "cells": [
  {
   "cell_type": "markdown",
   "id": "14b636dd",
   "metadata": {},
   "source": [
    "### Basic"
   ]
  },
  {
   "cell_type": "code",
   "execution_count": 1,
   "id": "9032f649",
   "metadata": {},
   "outputs": [
    {
     "name": "stdout",
     "output_type": "stream",
     "text": [
      "your name:sena\n",
      "hello sena\n"
     ]
    }
   ],
   "source": [
    "name=input(\"your name:\")\n",
    "print(\"hello {}\".format(name))"
   ]
  },
  {
   "cell_type": "code",
   "execution_count": 2,
   "id": "19b5acd5",
   "metadata": {},
   "outputs": [
    {
     "name": "stdout",
     "output_type": "stream",
     "text": [
      "first num: 4\n",
      "first num: 6\n",
      "Mean of the values: 5.0\n"
     ]
    }
   ],
   "source": [
    "num1=int(input(\"first num: \"))\n",
    "num2=int(input(\"first num: \"))\n",
    "mean=(num1+num2)/2\n",
    "print(\"Mean of the values: {}\".format(mean))"
   ]
  },
  {
   "cell_type": "code",
   "execution_count": 5,
   "id": "a8ae8388",
   "metadata": {},
   "outputs": [
    {
     "name": "stdout",
     "output_type": "stream",
     "text": [
      "15-30-45-60-75-90-"
     ]
    }
   ],
   "source": [
    "for i in range(1,101):\n",
    "    if i%15==0: # ekok\n",
    "        print(i,end=\"-\")"
   ]
  },
  {
   "cell_type": "code",
   "execution_count": 9,
   "id": "3d18e182",
   "metadata": {},
   "outputs": [
    {
     "name": "stdout",
     "output_type": "stream",
     "text": [
      "hangi sayı arasında istiyorsunuz? ilki: 1\n",
      "ikincisi: 5\n",
      "9 9\n"
     ]
    }
   ],
   "source": [
    "a=int(input(\"hangi sayı arasında istiyorsunuz? ilki: \"))\n",
    "b=int(input(\"ikincisi: \"))\n",
    "sumt=0\n",
    "for i in range(a+1,b):\n",
    "    sumt+=i\n",
    "    \n",
    "c=[i for i in range(a+1,b)]\n",
    "print(sumt,sum(c))"
   ]
  },
  {
   "cell_type": "markdown",
   "id": "7afaee8b",
   "metadata": {},
   "source": [
    "### Asal sayı"
   ]
  },
  {
   "cell_type": "code",
   "execution_count": 13,
   "id": "b84655c1",
   "metadata": {},
   "outputs": [
    {
     "name": "stdout",
     "output_type": "stream",
     "text": [
      "sayı:5\n",
      "Asal sayı mı? True\n"
     ]
    }
   ],
   "source": [
    "num=int(input(\"sayı:\"))\n",
    "prime=True\n",
    "if num>1:\n",
    "    for i in range(2,num):\n",
    "        if num%i==0:\n",
    "            prime=False\n",
    "        else:\n",
    "            prime=True\n",
    "else:\n",
    "    prime=False\n",
    "print(\"Asal sayı mı? {}\".format(prime))\n"
   ]
  },
  {
   "cell_type": "code",
   "execution_count": 14,
   "id": "ab4c07d4",
   "metadata": {},
   "outputs": [
    {
     "name": "stdout",
     "output_type": "stream",
     "text": [
      "enter num: 10\n"
     ]
    },
    {
     "data": {
      "text/plain": [
       "[2, 3, 5, 7]"
      ]
     },
     "execution_count": 14,
     "metadata": {},
     "output_type": "execute_result"
    }
   ],
   "source": [
    "def prime(num):\n",
    "    for i in range(2,num):\n",
    "        if num%i==0:\n",
    "            return False\n",
    "    return True\n",
    "\n",
    "n=int(input(\"enter num: \"))\n",
    "primes=[]\n",
    "for i in range(2,n+1):\n",
    "    if prime(i):\n",
    "        primes.append(i)\n",
    "primes "
   ]
  },
  {
   "cell_type": "code",
   "execution_count": 16,
   "id": "b391206c",
   "metadata": {},
   "outputs": [
    {
     "name": "stdout",
     "output_type": "stream",
     "text": [
      "until when: 10\n"
     ]
    },
    {
     "data": {
      "text/plain": [
       "[2, 3, 5, 7]"
      ]
     },
     "execution_count": 16,
     "metadata": {},
     "output_type": "execute_result"
    }
   ],
   "source": [
    "n=int(input(\"until when: \"))\n",
    "primes=[]\n",
    "# kendisine ve 1'e sadece bölünmeli\n",
    "for i in range(2,n):\n",
    "    prime=True\n",
    "    for j in range(2,i):\n",
    "        if i%j==0:\n",
    "            prime=False\n",
    "    if prime:\n",
    "        primes.append(i)\n",
    "primes"
   ]
  },
  {
   "cell_type": "markdown",
   "id": "73efa6ac",
   "metadata": {},
   "source": [
    "### 1 den kullanıcının girmiş olduğu sayıya kadar olan tek ve çift sayıların toplamını ayrı ayrı bulan ve sonucu ekranda gösteren Python Örneği"
   ]
  },
  {
   "cell_type": "code",
   "execution_count": 18,
   "id": "be7cfd93",
   "metadata": {},
   "outputs": [
    {
     "name": "stdout",
     "output_type": "stream",
     "text": [
      "sayı:5\n",
      "Çift: 6. Tek: 4\n"
     ]
    }
   ],
   "source": [
    "num = int(input(\"sayı:\"))\n",
    "osum=0\n",
    "esum=0\n",
    "for i in range(1,num):\n",
    "    if i%2 ==0:\n",
    "        esum+=i\n",
    "    elif i%2==1:\n",
    "        osum+=i\n",
    "print(\"Çift: {}. Tek: {}\".format(esum,osum))"
   ]
  },
  {
   "cell_type": "markdown",
   "id": "52cb138e",
   "metadata": {},
   "source": [
    "## maaş ve zam"
   ]
  },
  {
   "cell_type": "code",
   "execution_count": 19,
   "id": "dd1c8ff9",
   "metadata": {},
   "outputs": [
    {
     "name": "stdout",
     "output_type": "stream",
     "text": [
      "salary: 100\n",
      "how much raise: %50\n",
      "150.0\n"
     ]
    }
   ],
   "source": [
    "salary=int(input(\"salary: \"))\n",
    "raised=int(input(\"how much raise: %\"))\n",
    "salary= salary + (salary*raised/100)\n",
    "print(salary)"
   ]
  },
  {
   "cell_type": "markdown",
   "id": "eaba89ba",
   "metadata": {},
   "source": [
    "## sayı tahmini"
   ]
  },
  {
   "cell_type": "code",
   "execution_count": null,
   "id": "ebadb23f",
   "metadata": {},
   "outputs": [],
   "source": [
    "import random\n",
    "choosen=random.randint(1,100)\n",
    "print(choosen)\n",
    "life=7\n",
    "for i in range(life,0,-1):\n",
    "    user=int(input(\"your guess? \"))\n",
    "    if user!=choosen:\n",
    "        if user>choosen:\n",
    "            print(\"wrong, think about lesser\")\n",
    "            life-=1\n",
    "            print(\"remainig life {}\".format(life))\n",
    "        else:\n",
    "            print(\"wrong think about bigger\")\n",
    "            life-=1\n",
    "            print(\"remainig life {}\".format(life))\n",
    "\n",
    "    else:\n",
    "        print(\"your guess is right number is {}\".format(choosen))\n",
    "        print(\"remainig life {}\".format(life))\n",
    "        break"
   ]
  },
  {
   "cell_type": "markdown",
   "id": "89aede5c",
   "metadata": {},
   "source": [
    "## Verilen bir tarihin yılın kaçıncı günü olduğunu bulan Python Örneği."
   ]
  },
  {
   "cell_type": "code",
   "execution_count": 22,
   "id": "9290e791",
   "metadata": {},
   "outputs": [
    {
     "name": "stdout",
     "output_type": "stream",
     "text": [
      "288\n"
     ]
    }
   ],
   "source": [
    "def artıkYıl(yıl):\n",
    "    artık=False\n",
    "    if yıl%400==0 or (yıl%4==0 and yıl%100 !=0):\n",
    "        artık=True\n",
    "    return artık\n",
    "def gun(ay,gun,yıl):\n",
    "    days=[31,28,31,30,31,30,31,31,30,31,30,31]\n",
    "    if artıkYıl(yıl):\n",
    "        days[1]=29\n",
    "    sıra=0\n",
    "    for i in range(ay-1):\n",
    "        sıra+= days[i]\n",
    "    sıra+=gun\n",
    "    return sıra\n",
    "print(gun(10,15,2023))"
   ]
  },
  {
   "cell_type": "code",
   "execution_count": 23,
   "id": "db31d360",
   "metadata": {},
   "outputs": [
    {
     "name": "stdout",
     "output_type": "stream",
     "text": [
      "give the sentence:hello what's up?\n",
      "we have a in sentence.\n"
     ]
    }
   ],
   "source": [
    "metin=input(\"give the sentence:\")\n",
    "ch=\"a\"\n",
    "if ch in metin:\n",
    "    print(\"we have {} in sentence.\".format(ch))"
   ]
  },
  {
   "cell_type": "code",
   "execution_count": 26,
   "id": "78e8510e",
   "metadata": {},
   "outputs": [
    {
     "name": "stdout",
     "output_type": "stream",
     "text": [
      "which two numvers? first:1\n",
      "second: 6\n",
      "Mean of even variables: 4.0\n"
     ]
    }
   ],
   "source": [
    "num1=int(input(\"which two numvers? first:\"))\n",
    "num2= int(input(\"second: \"))\n",
    "tsum=0\n",
    "count=0\n",
    "for i in range(num1,num2+1):\n",
    "    if i%2==0:\n",
    "        tsum+=i\n",
    "        count+=1\n",
    "mean=tsum/count\n",
    "print(\"Mean of even variables: {}\".format(mean))\n",
    "        "
   ]
  },
  {
   "cell_type": "code",
   "execution_count": null,
   "id": "a6e03d47",
   "metadata": {},
   "outputs": [],
   "source": [
    "import pymysql.cursors\n",
    " \n",
    "# Veritabanı bağlantı cümlesi\n",
    "connection = pymysql.connect(host='localhost',\n",
    "                             user='root',\n",
    "                             password='',\n",
    "                             db='ogrenciler',\n",
    "                             charset='utf8mb4',\n",
    "                             cursorclass=pymysql.cursors.DictCursor)\n",
    "try:\n",
    "    with connection.cursor() as cursor:\n",
    "        # tek satır okuma\n",
    "        sql = \"SELECT `id`, `firstname`,`lastname` FROM `users`\"\n",
    "        cursor.execute(sql)\n",
    "        \n",
    "        for row in cursor.fetchall():\n",
    "            #tüm satırları okuma\n",
    "            firstname = str(row[\"firstname\"])\n",
    "            lastname = str(row[\"lastname\"])\n",
    " #ekrana yazdırma\n",
    "            print(\"İsim : \" + firstname)\n",
    "            print(\"Soyisim  : \" + lastname)\n",
    " \n",
    "finally:\n",
    "    connection.close()"
   ]
  },
  {
   "cell_type": "code",
   "execution_count": null,
   "id": "4a47b835",
   "metadata": {},
   "outputs": [],
   "source": [
    "import tkinter\n",
    "nesne = tkinter.Tk()\n",
    "nesne.mainloop()"
   ]
  },
  {
   "cell_type": "code",
   "execution_count": 27,
   "id": "b9ed30e3",
   "metadata": {},
   "outputs": [
    {
     "name": "stdout",
     "output_type": "stream",
     "text": [
      "46918\n",
      "28\n"
     ]
    }
   ],
   "source": [
    "sayı=input()\n",
    "sum=0\n",
    "for i in sayı:\n",
    "    sum+= int(i)\n",
    "print(sum)"
   ]
  },
  {
   "cell_type": "code",
   "execution_count": 36,
   "id": "fc879b35",
   "metadata": {},
   "outputs": [
    {
     "name": "stdout",
     "output_type": "stream",
     "text": [
      "enter num:3\n",
      "enter num:6\n",
      "enter num:12\n",
      "büyükle orta arasındaki fark: 6\n",
      "küçükle orta arasındaki fark: 3\n"
     ]
    }
   ],
   "source": [
    "tlist=[]\n",
    "for i in range(3):\n",
    "    num=int(input(\"enter num:\"))\n",
    "    tlist.append(num)\n",
    "tlist.sort()\n",
    "print(\"büyükle orta arasındaki fark: {}\".format((tlist[2]-tlist[1])))\n",
    "print(\"küçükle orta arasındaki fark: {}\".format((tlist[1]-tlist[0])))\n",
    "\n",
    "      "
   ]
  },
  {
   "cell_type": "code",
   "execution_count": 37,
   "id": "b4980399",
   "metadata": {},
   "outputs": [
    {
     "name": "stdout",
     "output_type": "stream",
     "text": [
      "enter num1:10\n",
      "enter num2:32\n",
      "something\n"
     ]
    }
   ],
   "source": [
    "num1=int(input(\"enter num1:\"))\n",
    "num2=int(input(\"enter num2:\"))\n",
    "top=num1+num2\n",
    "if top>=40 and top<=50:\n",
    "    print(\"something\")"
   ]
  },
  {
   "cell_type": "code",
   "execution_count": 38,
   "id": "75bf9fb0",
   "metadata": {},
   "outputs": [
    {
     "name": "stdout",
     "output_type": "stream",
     "text": [
      "3491\n",
      "3\n",
      "4\n",
      "9\n",
      "1\n",
      "17\n"
     ]
    }
   ],
   "source": [
    "sayı=input()\n",
    "sum=0\n",
    "for i in sayı:\n",
    "    print(i)\n",
    "    sum+= int(i)\n",
    "print(sum)\n"
   ]
  },
  {
   "cell_type": "code",
   "execution_count": 40,
   "id": "275d27b8",
   "metadata": {},
   "outputs": [
    {
     "name": "stdout",
     "output_type": "stream",
     "text": [
      "*****\n",
      "****\n",
      "***\n",
      "**\n",
      "*\n"
     ]
    }
   ],
   "source": [
    "for i in range(5):\n",
    "    for j in range(5-i):\n",
    "        print(\"*\",end=\"\")\n",
    "    print()"
   ]
  },
  {
   "cell_type": "code",
   "execution_count": 41,
   "id": "b482fd55",
   "metadata": {},
   "outputs": [
    {
     "name": "stdout",
     "output_type": "stream",
     "text": [
      "Celsius = 1\n",
      "Fahrebheit = 2\n",
      "Kelvin = 3\n",
      "Giriş Yapacağınız Sıcaklık Biriminiz Seçiniz:1\n",
      "Sıcaklık Değeri Giriniz:100\n",
      "Dönüştürmek İstediğiniz Birimi Seçiniz:2\n",
      "100.0 celsius, 212.0  fahreit degerine eşittir\n"
     ]
    }
   ],
   "source": [
    "\"\"\"\n",
    "f=cx1.8+32\n",
    "c=(f-32)/1.8\n",
    "k=c+273.15\n",
    "c=k-273.15\n",
    "\"\"\"\n",
    "print(\"Celsius = 1\")\n",
    "print(\"Fahrebheit = 2\")\n",
    "print(\"Kelvin = 3\")\n",
    "birim1=input(\"Giriş Yapacağınız Sıcaklık Biriminiz Seçiniz:\")\n",
    "deger=float(input(\"Sıcaklık Değeri Giriniz:\"))\n",
    "birim2=input(\"Dönüştürmek İstediğiniz Birimi Seçiniz:\")\n",
    "if birim1 == \"1\" : #celsius\n",
    "   if birim2== \"2\" :\n",
    "       print(deger,\"celsius,\",float(deger*1.8+32),\" fahreit degerine eşittir\")\n",
    "   elif birim2 == \"3\":\n",
    "       print(deger,\"celsius,\",deger+273.15,\" kelvin değeri:\")\n",
    "   else:\n",
    "       print(\"HATA - Giriş yaptığınız birim değerine dönüştürme yapılamaz.\")\n",
    "elif birim1 == \"2\" : #fahrenheit\n",
    "   if birim2==\"1\":\n",
    "       print(deger,\"fahrenheit, celsius değer:\",(deger-32)/1.8)\n",
    "   elif birim2 == \"3\":\n",
    "       print(deger,\"fahrenheit, kelvin değeri:\", (deger-32)/1.8 + 273.15)\n",
    "   else:\n",
    "       print(\"HATA - Giriş yaptığınız birim değerine dönüştürme yapılamaz.\")\n",
    "elif birim1 == \"3\" : #kelvin\n",
    "   if birim2==\"1\":\n",
    "       print(deger,\"kelvin, celsius  değeri:\", deger-273.15)\n",
    "   elif birim2 == \"2\":\n",
    "       print(deger,\"kelvin, fahrenheit değeri:\",(deger-273.15)*1.8+32 )\n",
    "   else:\n",
    "       print(\"HATA - Giriş yaptığınız birim değerine dönüştürme yapılamaz.\")\n",
    "else:\n",
    "   print(\"Lütfen 1 ile 3 arasında bir değer seçiniz.\")"
   ]
  },
  {
   "cell_type": "code",
   "execution_count": 46,
   "id": "810e2b2a",
   "metadata": {},
   "outputs": [
    {
     "name": "stdout",
     "output_type": "stream",
     "text": [
      "list1 = [10, 'a']\n"
     ]
    }
   ],
   "source": [
    "def extendList(val, list=[]):\n",
    "    list.append(val)\n",
    "    return list\n",
    "list1 = extendList(10)\n",
    "list2 = extendList(123,[])\n",
    "list3 = extendList('a')\n",
    "print (\"list1 = %s\" % list1)\n"
   ]
  },
  {
   "cell_type": "markdown",
   "id": "db4814b6",
   "metadata": {},
   "source": [
    "### N adet sayıya sahip bir listeden, “single list comprehension” kullanarak sadece şu değerleri içeren yeni bir liste üret:\n",
    "\n",
    "a- çift sayılar ve\n",
    "b- orijinal listedeki çift indekse sahip elemanlar"
   ]
  },
  {
   "cell_type": "code",
   "execution_count": null,
   "id": "dcfc977d",
   "metadata": {},
   "outputs": [],
   "source": [
    "A=[x for x in list[::2] if x%2==0]"
   ]
  },
  {
   "cell_type": "code",
   "execution_count": null,
   "id": "2fb846d3",
   "metadata": {},
   "outputs": [],
   "source": []
  }
 ],
 "metadata": {
  "kernelspec": {
   "display_name": "Python 3 (ipykernel)",
   "language": "python",
   "name": "python3"
  },
  "language_info": {
   "codemirror_mode": {
    "name": "ipython",
    "version": 3
   },
   "file_extension": ".py",
   "mimetype": "text/x-python",
   "name": "python",
   "nbconvert_exporter": "python",
   "pygments_lexer": "ipython3",
   "version": "3.9.12"
  }
 },
 "nbformat": 4,
 "nbformat_minor": 5
}
