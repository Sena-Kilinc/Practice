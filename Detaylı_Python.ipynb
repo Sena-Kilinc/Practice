{
 "cells": [
  {
   "cell_type": "code",
   "execution_count": 2,
   "id": "955835f7",
   "metadata": {},
   "outputs": [
    {
     "name": "stdout",
     "output_type": "stream",
     "text": [
      "hello\n",
      "hello\n",
      "hello\n",
      "hello\n",
      "hello\n"
     ]
    }
   ],
   "source": [
    "sentence= \"hello\"\n",
    "def writeSentence(num,sentence):\n",
    "    for i in range(num):\n",
    "        print(sentence)\n",
    "writeSentence(5,sentence)"
   ]
  },
  {
   "cell_type": "code",
   "execution_count": 2,
   "id": "e48fa4bb",
   "metadata": {},
   "outputs": [
    {
     "name": "stdout",
     "output_type": "stream",
     "text": [
      "\n",
      "cerhaba ben sena\n",
      "sen kicsin?\n",
      "\n"
     ]
    }
   ],
   "source": [
    "sentence= \"\"\"\n",
    "Merhaba Ben Sena\n",
    "Sen kimsin?\n",
    "\"\"\"\n",
    "print(sentence.lower().replace(\"m\",\"c\"))"
   ]
  },
  {
   "cell_type": "code",
   "execution_count": 3,
   "id": "dac6bcb4",
   "metadata": {},
   "outputs": [
    {
     "name": "stdout",
     "output_type": "stream",
     "text": [
      "\n",
      "Qerhaba Ben Sena\n",
      "Sen kimsin?\n",
      "\n"
     ]
    }
   ],
   "source": [
    "newsentence=\"\"\n",
    "for i in sentence:\n",
    "    if i==\"M\":\n",
    "        i=\"Q\"\n",
    "        newsentence+=i\n",
    "    else:\n",
    "        newsentence+=i\n",
    "print(newsentence)"
   ]
  },
  {
   "cell_type": "code",
   "execution_count": 26,
   "id": "760a199a",
   "metadata": {},
   "outputs": [
    {
     "name": "stdout",
     "output_type": "stream",
     "text": [
      "\n",
      "Qerhaba Ben Sena\n",
      "Sen kimsin?\n",
      "\n"
     ]
    }
   ],
   "source": [
    "newsentence=[]\n",
    "for i in sentence:\n",
    "    if i==\"M\":\n",
    "        i=\"Q\"\n",
    "        newsentence.append(i)\n",
    "    else:\n",
    "        newsentence.append(i)\n",
    "print(\"\".join(newsentence))"
   ]
  },
  {
   "cell_type": "code",
   "execution_count": 4,
   "id": "0668eb7e",
   "metadata": {},
   "outputs": [
    {
     "data": {
      "text/plain": [
       "'anes'"
      ]
     },
     "execution_count": 4,
     "metadata": {},
     "output_type": "execute_result"
    }
   ],
   "source": [
    "sent=\"sena\"\n",
    "sent[::-1]"
   ]
  },
  {
   "cell_type": "code",
   "execution_count": 6,
   "id": "0ab407cc",
   "metadata": {},
   "outputs": [
    {
     "data": {
      "text/plain": [
       "(3, 4)"
      ]
     },
     "execution_count": 6,
     "metadata": {},
     "output_type": "execute_result"
    }
   ],
   "source": [
    "sent.find(\"a\"),len(sent)"
   ]
  },
  {
   "cell_type": "code",
   "execution_count": 9,
   "id": "03b39095",
   "metadata": {},
   "outputs": [
    {
     "name": "stdout",
     "output_type": "stream",
     "text": [
      "13\n"
     ]
    }
   ],
   "source": [
    "num=1283210983721\n",
    "print(len(str(num)))"
   ]
  },
  {
   "cell_type": "code",
   "execution_count": 1,
   "id": "29cd3686",
   "metadata": {},
   "outputs": [
    {
     "name": "stdout",
     "output_type": "stream",
     "text": [
      "buradan aldığın değerler string10\n"
     ]
    }
   ],
   "source": [
    "a=int(input(\"buradan aldığın değerler string\"))"
   ]
  },
  {
   "cell_type": "code",
   "execution_count": 2,
   "id": "680333b1",
   "metadata": {},
   "outputs": [
    {
     "name": "stdout",
     "output_type": "stream",
     "text": [
      "120\n"
     ]
    }
   ],
   "source": [
    "def factoriel(n):\n",
    "    num=1\n",
    "    for i in range(1,n+1):\n",
    "        num *=i\n",
    "    return num\n",
    "print(factoriel(5))"
   ]
  },
  {
   "cell_type": "code",
   "execution_count": 15,
   "id": "4ab43850",
   "metadata": {},
   "outputs": [
    {
     "name": "stdout",
     "output_type": "stream",
     "text": [
      "10\n",
      "24\n"
     ]
    }
   ],
   "source": [
    "def calc(*nums,cal=\"*\"): #default oluyor\n",
    "    if cal == \"+\":\n",
    "        res=0\n",
    "        for i in nums:\n",
    "            res+=i\n",
    "    else:\n",
    "        res=1\n",
    "        for i in nums:\n",
    "            res*=i\n",
    "        \n",
    "    return res\n",
    "print(calc(1,2,3,4,cal=\"+\"))\n",
    "print(calc(1,2,3,4))"
   ]
  },
  {
   "cell_type": "code",
   "execution_count": 17,
   "id": "f4e729c9",
   "metadata": {},
   "outputs": [
    {
     "name": "stdout",
     "output_type": "stream",
     "text": [
      "senaXbilmiyor\n",
      "sena bilmiyor---"
     ]
    }
   ],
   "source": [
    "print(\"sena\",\"bilmiyor\",sep=\"X\")\n",
    "print(\"sena\",\"bilmiyor\",end=\"---\")"
   ]
  },
  {
   "cell_type": "code",
   "execution_count": 19,
   "id": "dab214a5",
   "metadata": {},
   "outputs": [
    {
     "name": "stdout",
     "output_type": "stream",
     "text": [
      "Merhaba sena, hoşgeldiniz.\n"
     ]
    }
   ],
   "source": [
    "a=\"sena\"\n",
    "print(\"Merhaba {}, hoşgeldiniz.\".format(a))"
   ]
  },
  {
   "cell_type": "code",
   "execution_count": 26,
   "id": "f17bb942",
   "metadata": {},
   "outputs": [],
   "source": [
    "write = open(\"writing.txt\",\"w\")\n",
    "print(\"sena şuan acıktı\",file=write) #flush=True siliyor"
   ]
  },
  {
   "cell_type": "code",
   "execution_count": 28,
   "id": "de728759",
   "metadata": {},
   "outputs": [
    {
     "name": "stdout",
     "output_type": "stream",
     "text": [
      "T B M M\n",
      "T-B-M-M\n"
     ]
    }
   ],
   "source": [
    "sent=\"TBMM\"\n",
    "print(*sent)\n",
    "print(*sent,sep=\"-\")"
   ]
  },
  {
   "cell_type": "code",
   "execution_count": 42,
   "id": "f4f4e18f",
   "metadata": {},
   "outputs": [
    {
     "name": "stdout",
     "output_type": "stream",
     "text": [
      "500500\n"
     ]
    }
   ],
   "source": [
    "def sayilarıTopla(*degerler):\n",
    "    toplam=0\n",
    "    for deger in degerler:\n",
    "        toplam+=deger\n",
    "    return toplam\n",
    "sayilar=[x for x in range(1,1001)]\n",
    "print(sayilarıTopla(*sayilar))"
   ]
  },
  {
   "cell_type": "code",
   "execution_count": 52,
   "id": "dbd764c7",
   "metadata": {},
   "outputs": [
    {
     "name": "stdout",
     "output_type": "stream",
     "text": [
      "*\n",
      "**\n",
      "***\n",
      "****\n",
      "*****\n"
     ]
    }
   ],
   "source": [
    "for i in range(5):\n",
    "    for j in range(i+1):\n",
    "        print(\"*\",end=\"\")\n",
    "    print()"
   ]
  },
  {
   "cell_type": "code",
   "execution_count": 54,
   "id": "d05dafae",
   "metadata": {},
   "outputs": [
    {
     "data": {
      "text/plain": [
       "([65, 5, 4, 3], [1, 2, 3, 4, 5, 65, 6])"
      ]
     },
     "execution_count": 54,
     "metadata": {},
     "output_type": "execute_result"
    }
   ],
   "source": [
    "ll= [1,2,3,4,5,65,6]\n",
    "ll[5:1:-1], ll[::]"
   ]
  },
  {
   "cell_type": "code",
   "execution_count": 55,
   "id": "b1e6fe73",
   "metadata": {},
   "outputs": [
    {
     "data": {
      "text/plain": [
       "[1, 'hi', 2, 3, 4, 5, 65, 6]"
      ]
     },
     "execution_count": 55,
     "metadata": {},
     "output_type": "execute_result"
    }
   ],
   "source": [
    "ll.insert(1,\"hi\")\n",
    "ll"
   ]
  },
  {
   "cell_type": "code",
   "execution_count": 56,
   "id": "5d15c477",
   "metadata": {},
   "outputs": [],
   "source": [
    "# remove value, pop index,insert index,append value"
   ]
  },
  {
   "cell_type": "code",
   "execution_count": 73,
   "id": "d5641d50",
   "metadata": {},
   "outputs": [
    {
     "data": {
      "text/plain": [
       "[20, 10, 24]"
      ]
     },
     "execution_count": 73,
     "metadata": {},
     "output_type": "execute_result"
    }
   ],
   "source": [
    "people={\"sena\":[20,10,24],\"bora\":19,\"ceren\":17}\n",
    "people[\"sena\"]"
   ]
  },
  {
   "cell_type": "code",
   "execution_count": 74,
   "id": "5977e4a7",
   "metadata": {},
   "outputs": [
    {
     "data": {
      "text/plain": [
       "{'sena': [20, 10, 24], 'bora': 19, 'ceren': 17, 's.people': ['idk', 'whut']}"
      ]
     },
     "execution_count": 74,
     "metadata": {},
     "output_type": "execute_result"
    }
   ],
   "source": [
    "people[\"s.people\"]=[\"idk\",\"whut\"]\n",
    "people"
   ]
  },
  {
   "cell_type": "code",
   "execution_count": 75,
   "id": "4c9fb538",
   "metadata": {},
   "outputs": [
    {
     "data": {
      "text/plain": [
       "{'sena': [20, 10, 24, '40'],\n",
       " 'bora': 19,\n",
       " 'ceren': 17,\n",
       " 's.people': ['idk', 'whut']}"
      ]
     },
     "execution_count": 75,
     "metadata": {},
     "output_type": "execute_result"
    }
   ],
   "source": [
    "people[\"sena\"].append(\"40\")\n",
    "people"
   ]
  },
  {
   "cell_type": "code",
   "execution_count": 76,
   "id": "44676495",
   "metadata": {},
   "outputs": [
    {
     "data": {
      "text/plain": [
       "{'sena': [20, 10, 24, '40'], 'bora': 19, 'ceren': 17, 's.people': ['whut']}"
      ]
     },
     "execution_count": 76,
     "metadata": {},
     "output_type": "execute_result"
    }
   ],
   "source": [
    "people[\"s.people\"].remove(\"idk\")\n",
    "people"
   ]
  },
  {
   "cell_type": "code",
   "execution_count": 77,
   "id": "6e5c43cc",
   "metadata": {},
   "outputs": [
    {
     "name": "stdout",
     "output_type": "stream",
     "text": [
      "sena [20, 10, 24, '40']\n",
      "bora 19\n",
      "ceren 17\n",
      "s.people ['whut']\n"
     ]
    }
   ],
   "source": [
    "for i,j in people.items():\n",
    "    print(i,j)"
   ]
  },
  {
   "cell_type": "code",
   "execution_count": 78,
   "id": "3374d4e1",
   "metadata": {},
   "outputs": [
    {
     "name": "stdout",
     "output_type": "stream",
     "text": [
      "1st num: 3\n",
      "2nd num: 4\n"
     ]
    },
    {
     "data": {
      "text/plain": [
       "5.0"
      ]
     },
     "execution_count": 78,
     "metadata": {},
     "output_type": "execute_result"
    }
   ],
   "source": [
    "a=float(input(\"1st num: \"))\n",
    "b=float(input(\"2nd num: \"))\n",
    "c=(a**2+b**2)**(1/2)"
   ]
  },
  {
   "cell_type": "code",
   "execution_count": 82,
   "id": "e59d3a73",
   "metadata": {},
   "outputs": [
    {
     "name": "stdout",
     "output_type": "stream",
     "text": [
      "1st num: 10\n",
      "2nd num: 0\n",
      "Resistance cant be 0\n",
      "2nd num: 2\n",
      "Current is 5.0 \n"
     ]
    }
   ],
   "source": [
    "a=float(input(\"1st num: \"))\n",
    "while True:\n",
    "    try:\n",
    "        b=float(input(\"2nd num: \"))\n",
    "        i=a/b\n",
    "        break\n",
    "    except ZeroDivisionError:\n",
    "        print(\"Resistance cant be 0\")\n",
    "print(\"Current is {} \".format(i))"
   ]
  },
  {
   "cell_type": "code",
   "execution_count": 84,
   "id": "f82e7bc7",
   "metadata": {},
   "outputs": [
    {
     "name": "stdout",
     "output_type": "stream",
     "text": [
      "add your word: sena\n",
      "meaning of word: bitch\n",
      "if you wanna keep going press 1 else press 0 1\n",
      "add your word: kas\n",
      "meaning of word: yumurta\n",
      "if you wanna keep going press 1 else press 0 0\n"
     ]
    }
   ],
   "source": [
    "vocab={}\n",
    "word=\"\"\n",
    "mean=\"\"\n",
    "while True:\n",
    "    sent=input(\"add your word: \")\n",
    "    answ=input(\"meaning of word: \")\n",
    "    vocab[sent]=answ\n",
    "    going=int(input(\"if you wanna keep going press 1 else press 0 \"))\n",
    "    if going==0:\n",
    "        break\n",
    "    else:\n",
    "        continue\n",
    "    "
   ]
  },
  {
   "cell_type": "code",
   "execution_count": 85,
   "id": "abf59293",
   "metadata": {},
   "outputs": [
    {
     "data": {
      "text/plain": [
       "{'sena': 'bitch', 'kas': 'yumurta'}"
      ]
     },
     "execution_count": 85,
     "metadata": {},
     "output_type": "execute_result"
    }
   ],
   "source": [
    "vocab"
   ]
  },
  {
   "cell_type": "code",
   "execution_count": 87,
   "id": "0be7228a",
   "metadata": {},
   "outputs": [
    {
     "name": "stdout",
     "output_type": "stream",
     "text": [
      "enter your midterm:100\n",
      "enter yoru final:90\n",
      "94.0\n",
      "Your grade is AA.\n"
     ]
    }
   ],
   "source": [
    "midterm=int(input(\"enter your midterm:\"))\n",
    "final= int(input(\"enter yoru final:\"))\n",
    "midterm=midterm*0.4\n",
    "final=final*0.6\n",
    "total=final+midterm\n",
    "print(total)\n",
    "if total<=100 and total>85:\n",
    "    print(\"Your grade is AA.\")\n",
    "elif total<=85 and total>70:\n",
    "    print(\"Your grade is BA\")\n",
    "else:\n",
    "    print(\"try again\")"
   ]
  },
  {
   "cell_type": "code",
   "execution_count": 90,
   "id": "99482417",
   "metadata": {},
   "outputs": [],
   "source": [
    "with open(\"notlar.txt\",\"a\") as dosya:\n",
    "    dosya.writelines(\"total grade is {}\".format(total))"
   ]
  },
  {
   "cell_type": "code",
   "execution_count": null,
   "id": "0aea1dfd",
   "metadata": {},
   "outputs": [],
   "source": []
  }
 ],
 "metadata": {
  "kernelspec": {
   "display_name": "Python 3 (ipykernel)",
   "language": "python",
   "name": "python3"
  },
  "language_info": {
   "codemirror_mode": {
    "name": "ipython",
    "version": 3
   },
   "file_extension": ".py",
   "mimetype": "text/x-python",
   "name": "python",
   "nbconvert_exporter": "python",
   "pygments_lexer": "ipython3",
   "version": "3.9.12"
  }
 },
 "nbformat": 4,
 "nbformat_minor": 5
}
