{
 "cells": [
  {
   "cell_type": "code",
   "execution_count": 2,
   "id": "955835f7",
   "metadata": {},
   "outputs": [
    {
     "name": "stdout",
     "output_type": "stream",
     "text": [
      "hello\n",
      "hello\n",
      "hello\n",
      "hello\n",
      "hello\n"
     ]
    }
   ],
   "source": [
    "sentence= \"hello\"\n",
    "def writeSentence(num,sentence):\n",
    "    for i in range(num):\n",
    "        print(sentence)\n",
    "writeSentence(5,sentence)"
   ]
  },
  {
   "cell_type": "code",
   "execution_count": 2,
   "id": "e48fa4bb",
   "metadata": {},
   "outputs": [
    {
     "name": "stdout",
     "output_type": "stream",
     "text": [
      "\n",
      "cerhaba ben sena\n",
      "sen kicsin?\n",
      "\n"
     ]
    }
   ],
   "source": [
    "sentence= \"\"\"\n",
    "Merhaba Ben Sena\n",
    "Sen kimsin?\n",
    "\"\"\"\n",
    "print(sentence.lower().replace(\"m\",\"c\"))"
   ]
  },
  {
   "cell_type": "code",
   "execution_count": 3,
   "id": "dac6bcb4",
   "metadata": {},
   "outputs": [
    {
     "name": "stdout",
     "output_type": "stream",
     "text": [
      "\n",
      "Qerhaba Ben Sena\n",
      "Sen kimsin?\n",
      "\n"
     ]
    }
   ],
   "source": [
    "newsentence=\"\"\n",
    "for i in sentence:\n",
    "    if i==\"M\":\n",
    "        i=\"Q\"\n",
    "        newsentence+=i\n",
    "    else:\n",
    "        newsentence+=i\n",
    "print(newsentence)"
   ]
  },
  {
   "cell_type": "code",
   "execution_count": 26,
   "id": "760a199a",
   "metadata": {},
   "outputs": [
    {
     "name": "stdout",
     "output_type": "stream",
     "text": [
      "\n",
      "Qerhaba Ben Sena\n",
      "Sen kimsin?\n",
      "\n"
     ]
    }
   ],
   "source": [
    "newsentence=[]\n",
    "for i in sentence:\n",
    "    if i==\"M\":\n",
    "        i=\"Q\"\n",
    "        newsentence.append(i)\n",
    "    else:\n",
    "        newsentence.append(i)\n",
    "print(\"\".join(newsentence))"
   ]
  },
  {
   "cell_type": "code",
   "execution_count": 4,
   "id": "0668eb7e",
   "metadata": {},
   "outputs": [
    {
     "data": {
      "text/plain": [
       "'anes'"
      ]
     },
     "execution_count": 4,
     "metadata": {},
     "output_type": "execute_result"
    }
   ],
   "source": [
    "sent=\"sena\"\n",
    "sent[::-1]"
   ]
  },
  {
   "cell_type": "code",
   "execution_count": 6,
   "id": "0ab407cc",
   "metadata": {},
   "outputs": [
    {
     "data": {
      "text/plain": [
       "(3, 4)"
      ]
     },
     "execution_count": 6,
     "metadata": {},
     "output_type": "execute_result"
    }
   ],
   "source": [
    "sent.find(\"a\"),len(sent)"
   ]
  },
  {
   "cell_type": "code",
   "execution_count": 9,
   "id": "03b39095",
   "metadata": {},
   "outputs": [
    {
     "name": "stdout",
     "output_type": "stream",
     "text": [
      "13\n"
     ]
    }
   ],
   "source": [
    "num=1283210983721\n",
    "print(len(str(num)))"
   ]
  },
  {
   "cell_type": "code",
   "execution_count": 1,
   "id": "29cd3686",
   "metadata": {},
   "outputs": [
    {
     "name": "stdout",
     "output_type": "stream",
     "text": [
      "buradan aldığın değerler string10\n"
     ]
    }
   ],
   "source": [
    "a=int(input(\"buradan aldığın değerler string\"))"
   ]
  },
  {
   "cell_type": "code",
   "execution_count": 2,
   "id": "02341213",
   "metadata": {},
   "outputs": [
    {
     "name": "stdout",
     "output_type": "stream",
     "text": [
      "120\n"
     ]
    }
   ],
   "source": [
    "def factoriel(n):\n",
    "    num=1\n",
    "    for i in range(1,n+1):\n",
    "        num *=i\n",
    "    return num\n",
    "print(factoriel(5))"
   ]
  },
  {
   "cell_type": "code",
   "execution_count": 15,
   "id": "c7053a95",
   "metadata": {},
   "outputs": [
    {
     "name": "stdout",
     "output_type": "stream",
     "text": [
      "10\n",
      "24\n"
     ]
    }
   ],
   "source": [
    "def calc(*nums,cal=\"*\"): #default oluyor\n",
    "    if cal == \"+\":\n",
    "        res=0\n",
    "        for i in nums:\n",
    "            res+=i\n",
    "    else:\n",
    "        res=1\n",
    "        for i in nums:\n",
    "            res*=i\n",
    "        \n",
    "    return res\n",
    "print(calc(1,2,3,4,cal=\"+\"))\n",
    "print(calc(1,2,3,4))"
   ]
  },
  {
   "cell_type": "code",
   "execution_count": 17,
   "id": "e1136e58",
   "metadata": {},
   "outputs": [
    {
     "name": "stdout",
     "output_type": "stream",
     "text": [
      "senaXbilmiyor\n",
      "sena bilmiyor---"
     ]
    }
   ],
   "source": [
    "print(\"sena\",\"bilmiyor\",sep=\"X\")\n",
    "print(\"sena\",\"bilmiyor\",end=\"---\")"
   ]
  },
  {
   "cell_type": "code",
   "execution_count": 19,
   "id": "ebcc1041",
   "metadata": {},
   "outputs": [
    {
     "name": "stdout",
     "output_type": "stream",
     "text": [
      "Merhaba sena, hoşgeldiniz.\n"
     ]
    }
   ],
   "source": [
    "a=\"sena\"\n",
    "print(\"Merhaba {}, hoşgeldiniz.\".format(a))"
   ]
  },
  {
   "cell_type": "code",
   "execution_count": 26,
   "id": "6a53e141",
   "metadata": {},
   "outputs": [],
   "source": [
    "write = open(\"writing.txt\",\"w\")\n",
    "print(\"sena şuan acıktı\",file=write) #flush=True siliyor"
   ]
  },
  {
   "cell_type": "code",
   "execution_count": 28,
   "id": "27aefe0d",
   "metadata": {},
   "outputs": [
    {
     "name": "stdout",
     "output_type": "stream",
     "text": [
      "T B M M\n",
      "T-B-M-M\n"
     ]
    }
   ],
   "source": [
    "sent=\"TBMM\"\n",
    "print(*sent)\n",
    "print(*sent,sep=\"-\")"
   ]
  },
  {
   "cell_type": "code",
   "execution_count": 42,
   "id": "3bd0dc7d",
   "metadata": {},
   "outputs": [
    {
     "name": "stdout",
     "output_type": "stream",
     "text": [
      "500500\n"
     ]
    }
   ],
   "source": [
    "def sayilarıTopla(*degerler):\n",
    "    toplam=0\n",
    "    for deger in degerler:\n",
    "        toplam+=deger\n",
    "    return toplam\n",
    "sayilar=[x for x in range(1,1001)]\n",
    "print(sayilarıTopla(*sayilar))"
   ]
  },
  {
   "cell_type": "code",
   "execution_count": 52,
   "id": "21a6e6e4",
   "metadata": {},
   "outputs": [
    {
     "name": "stdout",
     "output_type": "stream",
     "text": [
      "*\n",
      "**\n",
      "***\n",
      "****\n",
      "*****\n"
     ]
    }
   ],
   "source": [
    "for i in range(5):\n",
    "    for j in range(i+1):\n",
    "        print(\"*\",end=\"\")\n",
    "    print()"
   ]
  },
  {
   "cell_type": "code",
   "execution_count": 54,
   "id": "37303209",
   "metadata": {},
   "outputs": [
    {
     "data": {
      "text/plain": [
       "([65, 5, 4, 3], [1, 2, 3, 4, 5, 65, 6])"
      ]
     },
     "execution_count": 54,
     "metadata": {},
     "output_type": "execute_result"
    }
   ],
   "source": [
    "ll= [1,2,3,4,5,65,6]\n",
    "ll[5:1:-1], ll[::]"
   ]
  },
  {
   "cell_type": "code",
   "execution_count": 55,
   "id": "f5cf8d9b",
   "metadata": {},
   "outputs": [
    {
     "data": {
      "text/plain": [
       "[1, 'hi', 2, 3, 4, 5, 65, 6]"
      ]
     },
     "execution_count": 55,
     "metadata": {},
     "output_type": "execute_result"
    }
   ],
   "source": [
    "ll.insert(1,\"hi\")\n",
    "ll"
   ]
  },
  {
   "cell_type": "code",
   "execution_count": 56,
   "id": "e6d2d405",
   "metadata": {},
   "outputs": [],
   "source": [
    "# remove value, pop index,insert index,append value"
   ]
  },
  {
   "cell_type": "code",
   "execution_count": 73,
   "id": "082c5c67",
   "metadata": {},
   "outputs": [
    {
     "data": {
      "text/plain": [
       "[20, 10, 24]"
      ]
     },
     "execution_count": 73,
     "metadata": {},
     "output_type": "execute_result"
    }
   ],
   "source": [
    "people={\"sena\":[20,10,24],\"bora\":19,\"ceren\":17}\n",
    "people[\"sena\"]"
   ]
  },
  {
   "cell_type": "code",
   "execution_count": 74,
   "id": "620283e9",
   "metadata": {},
   "outputs": [
    {
     "data": {
      "text/plain": [
       "{'sena': [20, 10, 24], 'bora': 19, 'ceren': 17, 's.people': ['idk', 'whut']}"
      ]
     },
     "execution_count": 74,
     "metadata": {},
     "output_type": "execute_result"
    }
   ],
   "source": [
    "people[\"s.people\"]=[\"idk\",\"whut\"]\n",
    "people"
   ]
  },
  {
   "cell_type": "code",
   "execution_count": 75,
   "id": "b1c3e6ed",
   "metadata": {},
   "outputs": [
    {
     "data": {
      "text/plain": [
       "{'sena': [20, 10, 24, '40'],\n",
       " 'bora': 19,\n",
       " 'ceren': 17,\n",
       " 's.people': ['idk', 'whut']}"
      ]
     },
     "execution_count": 75,
     "metadata": {},
     "output_type": "execute_result"
    }
   ],
   "source": [
    "people[\"sena\"].append(\"40\")\n",
    "people"
   ]
  },
  {
   "cell_type": "code",
   "execution_count": 76,
   "id": "3cbc32ad",
   "metadata": {},
   "outputs": [
    {
     "data": {
      "text/plain": [
       "{'sena': [20, 10, 24, '40'], 'bora': 19, 'ceren': 17, 's.people': ['whut']}"
      ]
     },
     "execution_count": 76,
     "metadata": {},
     "output_type": "execute_result"
    }
   ],
   "source": [
    "people[\"s.people\"].remove(\"idk\")\n",
    "people"
   ]
  },
  {
   "cell_type": "code",
   "execution_count": 77,
   "id": "c131f0e5",
   "metadata": {},
   "outputs": [
    {
     "name": "stdout",
     "output_type": "stream",
     "text": [
      "sena [20, 10, 24, '40']\n",
      "bora 19\n",
      "ceren 17\n",
      "s.people ['whut']\n"
     ]
    }
   ],
   "source": [
    "for i,j in people.items():\n",
    "    print(i,j)"
   ]
  },
  {
   "cell_type": "code",
   "execution_count": 78,
   "id": "523027cd",
   "metadata": {},
   "outputs": [
    {
     "name": "stdout",
     "output_type": "stream",
     "text": [
      "1st num: 3\n",
      "2nd num: 4\n"
     ]
    },
    {
     "data": {
      "text/plain": [
       "5.0"
      ]
     },
     "execution_count": 78,
     "metadata": {},
     "output_type": "execute_result"
    }
   ],
   "source": [
    "a=float(input(\"1st num: \"))\n",
    "b=float(input(\"2nd num: \"))\n",
    "c=(a**2+b**2)**(1/2)"
   ]
  },
  {
   "cell_type": "code",
   "execution_count": 82,
   "id": "dc6d3b39",
   "metadata": {},
   "outputs": [
    {
     "name": "stdout",
     "output_type": "stream",
     "text": [
      "1st num: 10\n",
      "2nd num: 0\n",
      "Resistance cant be 0\n",
      "2nd num: 2\n",
      "Current is 5.0 \n"
     ]
    }
   ],
   "source": [
    "a=float(input(\"1st num: \"))\n",
    "while True:\n",
    "    try:\n",
    "        b=float(input(\"2nd num: \"))\n",
    "        i=a/b\n",
    "        break\n",
    "    except ZeroDivisionError:\n",
    "        print(\"Resistance cant be 0\")\n",
    "print(\"Current is {} \".format(i))"
   ]
  },
  {
   "cell_type": "code",
   "execution_count": 84,
   "id": "8dc539db",
   "metadata": {},
   "outputs": [
    {
     "name": "stdout",
     "output_type": "stream",
     "text": [
      "add your word: sena\n",
      "meaning of word: bitch\n",
      "if you wanna keep going press 1 else press 0 1\n",
      "add your word: kas\n",
      "meaning of word: yumurta\n",
      "if you wanna keep going press 1 else press 0 0\n"
     ]
    }
   ],
   "source": [
    "vocab={}\n",
    "word=\"\"\n",
    "mean=\"\"\n",
    "while True:\n",
    "    sent=input(\"add your word: \")\n",
    "    answ=input(\"meaning of word: \")\n",
    "    vocab[sent]=answ\n",
    "    going=int(input(\"if you wanna keep going press 1 else press 0 \"))\n",
    "    if going==0:\n",
    "        break\n",
    "    else:\n",
    "        continue\n",
    "    "
   ]
  },
  {
   "cell_type": "code",
   "execution_count": 85,
   "id": "7ba9d110",
   "metadata": {},
   "outputs": [
    {
     "data": {
      "text/plain": [
       "{'sena': 'bitch', 'kas': 'yumurta'}"
      ]
     },
     "execution_count": 85,
     "metadata": {},
     "output_type": "execute_result"
    }
   ],
   "source": [
    "vocab"
   ]
  },
  {
   "cell_type": "code",
   "execution_count": 87,
   "id": "8aa5271f",
   "metadata": {},
   "outputs": [
    {
     "name": "stdout",
     "output_type": "stream",
     "text": [
      "enter your midterm:100\n",
      "enter yoru final:90\n",
      "94.0\n",
      "Your grade is AA.\n"
     ]
    }
   ],
   "source": [
    "midterm=int(input(\"enter your midterm:\"))\n",
    "final= int(input(\"enter yoru final:\"))\n",
    "midterm=midterm*0.4\n",
    "final=final*0.6\n",
    "total=final+midterm\n",
    "print(total)\n",
    "if total<=100 and total>85:\n",
    "    print(\"Your grade is AA.\")\n",
    "elif total<=85 and total>70:\n",
    "    print(\"Your grade is BA\")\n",
    "else:\n",
    "    print(\"try again\")"
   ]
  },
  {
   "cell_type": "code",
   "execution_count": 90,
   "id": "0e2a36ba",
   "metadata": {},
   "outputs": [],
   "source": [
    "with open(\"notlar.txt\",\"a\") as dosya:\n",
    "    dosya.writelines(\"total grade is {}\".format(total))"
   ]
  },
  {
   "cell_type": "code",
   "execution_count": 91,
   "id": "ae32318f",
   "metadata": {},
   "outputs": [
    {
     "name": "stdout",
     "output_type": "stream",
     "text": [
      "1 2\n",
      "3 4\n"
     ]
    }
   ],
   "source": [
    "v=[(1,2),(3,4)]\n",
    "for x,y in v:\n",
    "    print(x,y)\n",
    "    "
   ]
  },
  {
   "cell_type": "code",
   "execution_count": 97,
   "id": "5c333f04",
   "metadata": {},
   "outputs": [
    {
     "name": "stdout",
     "output_type": "stream",
     "text": [
      "doja\n",
      "eminem\n",
      "rules\n",
      "berzek\n",
      "doja rules\n",
      "eminem berzek\n"
     ]
    }
   ],
   "source": [
    "playlist={\"doja\":\"rules\",\"eminem\":\"berzek\"}\n",
    "for i in playlist.keys():\n",
    "    print(i)\n",
    "for i in playlist.values():\n",
    "    print(i)\n",
    "for x,y in playlist.items():\n",
    "    print(x,y)"
   ]
  },
  {
   "cell_type": "code",
   "execution_count": 102,
   "id": "33fd1b7e",
   "metadata": {},
   "outputs": [
    {
     "name": "stdout",
     "output_type": "stream",
     "text": [
      "parayı at: 2\n",
      "yazı geldi\n",
      "tura geldi\n",
      "tura gelen sayı: 1\n",
      "yazı gelen sayı:1\n"
     ]
    }
   ],
   "source": [
    "import random\n",
    "yazigiven=0\n",
    "turagiven=0\n",
    "para=[\"tura\",\"yazi\"]\n",
    "atilacakPra=int(input(\"parayı at: \"))\n",
    "while atilacakPra>0:\n",
    "    paraUstu=random.choice(para)\n",
    "    if paraUstu==\"tura\":\n",
    "        turagiven+=1\n",
    "        print(\"tura geldi\")\n",
    "    else:\n",
    "        yazigiven+=1\n",
    "        print(\"yazı geldi\")\n",
    "    atilacakPra-=1\n",
    "print(\"tura gelen sayı: {}\\nyazı gelen sayı:{}\".format(turagiven,yazigiven))"
   ]
  },
  {
   "cell_type": "code",
   "execution_count": 111,
   "id": "bf928f68",
   "metadata": {},
   "outputs": [
    {
     "name": "stdout",
     "output_type": "stream",
     "text": [
      "until when: 5\n",
      "not prime\n"
     ]
    },
    {
     "data": {
      "text/plain": [
       "[2, 3]"
      ]
     },
     "execution_count": 111,
     "metadata": {},
     "output_type": "execute_result"
    }
   ],
   "source": [
    "n=int(input(\"until when: \"))\n",
    "primes=[]\n",
    "# kendisine ve 1'e sadece bölünmeli\n",
    "for i in range(2,n):\n",
    "    prime=True\n",
    "    for j in range(2,i):\n",
    "        if i%j==0:\n",
    "            print(\"not prime\")\n",
    "            prime=False\n",
    "    if prime:\n",
    "        primes.append(i)\n",
    "primes"
   ]
  },
  {
   "cell_type": "code",
   "execution_count": 114,
   "id": "b3bcded4",
   "metadata": {},
   "outputs": [
    {
     "name": "stdout",
     "output_type": "stream",
     "text": [
      "enter num: 5\n"
     ]
    },
    {
     "data": {
      "text/plain": [
       "[2, 3, 5]"
      ]
     },
     "execution_count": 114,
     "metadata": {},
     "output_type": "execute_result"
    }
   ],
   "source": [
    "def prime(num):\n",
    "    for i in range(2,num):\n",
    "        if num%i==0:\n",
    "            return False\n",
    "    return True\n",
    "\n",
    "n=int(input(\"enter num: \"))\n",
    "primes=[]\n",
    "for i in range(2,n+1):\n",
    "    if prime(i):\n",
    "        primes.append(i)\n",
    "primes  "
   ]
  },
  {
   "cell_type": "code",
   "execution_count": 115,
   "id": "22a1505e",
   "metadata": {},
   "outputs": [
    {
     "data": {
      "text/plain": [
       "[6, 12, 18]"
      ]
     },
     "execution_count": 115,
     "metadata": {},
     "output_type": "execute_result"
    }
   ],
   "source": [
    "nums=[]\n",
    "for i in range(1,21):\n",
    "    if i %6==0:\n",
    "        nums.append(i)\n",
    "nums"
   ]
  },
  {
   "cell_type": "code",
   "execution_count": 117,
   "id": "57d7486e",
   "metadata": {},
   "outputs": [
    {
     "data": {
      "text/plain": [
       "[6, 12, 18]"
      ]
     },
     "execution_count": 117,
     "metadata": {},
     "output_type": "execute_result"
    }
   ],
   "source": [
    "nums = [i for i in range(1,21) if i%6==0]\n",
    "nums"
   ]
  },
  {
   "cell_type": "code",
   "execution_count": 119,
   "id": "f45f7505",
   "metadata": {},
   "outputs": [
    {
     "data": {
      "text/plain": [
       "['sena', 'samet', 'serkan', 'susam']"
      ]
     },
     "execution_count": 119,
     "metadata": {},
     "output_type": "execute_result"
    }
   ],
   "source": [
    "people=[\"sena\",\"samet\",\"serkan\",\"susam\",\"mert\",\"ali\"]\n",
    "mPeople=[i for i in people if i[0]==\"s\"]\n",
    "mPeople"
   ]
  },
  {
   "cell_type": "code",
   "execution_count": 120,
   "id": "6cba4d83",
   "metadata": {},
   "outputs": [
    {
     "data": {
      "text/plain": [
       "120"
      ]
     },
     "execution_count": 120,
     "metadata": {},
     "output_type": "execute_result"
    }
   ],
   "source": [
    "n=5\n",
    "mult=1\n",
    "for i in range(1,n+1):\n",
    "    mult*=i\n",
    "mult"
   ]
  },
  {
   "cell_type": "code",
   "execution_count": 121,
   "id": "f5aec2fe",
   "metadata": {},
   "outputs": [
    {
     "data": {
      "text/plain": [
       "120"
      ]
     },
     "execution_count": 121,
     "metadata": {},
     "output_type": "execute_result"
    }
   ],
   "source": [
    "def fact(n):\n",
    "    if n==1:\n",
    "        return n\n",
    "    else:\n",
    "        return n* fact(n-1)\n",
    "fact(5)"
   ]
  },
  {
   "cell_type": "code",
   "execution_count": 129,
   "id": "bc0e0cc4",
   "metadata": {},
   "outputs": [
    {
     "name": "stdout",
     "output_type": "stream",
     "text": [
      "enter num:1\n",
      "how much100\n",
      "1900\n",
      "enter num:2\n",
      "how much200\n",
      "2100\n",
      "enter num:3\n"
     ]
    }
   ],
   "source": [
    "total=2000\n",
    "while True:\n",
    "    n=int(input(\"enter num:\"))\n",
    "    if n==1:\n",
    "        a=int(input(\"how much\"))\n",
    "        total-=a\n",
    "        print(total)\n",
    "    elif n==2:\n",
    "        a=int(input(\"how much\"))\n",
    "        total+=a\n",
    "        print(total)\n",
    "    elif n==3:\n",
    "        break"
   ]
  },
  {
   "cell_type": "code",
   "execution_count": 9,
   "id": "02431887",
   "metadata": {},
   "outputs": [
    {
     "name": "stdout",
     "output_type": "stream",
     "text": [
      "10\n"
     ]
    }
   ],
   "source": [
    "def ebob (a,b):\n",
    "    c=min(a,b)\n",
    "    x=0\n",
    "    for i in range(1,c+1):\n",
    "        if a % (i)==0 and b%(i)==0:\n",
    "            x=i\n",
    "    return x\n",
    "print(ebob(50,70))"
   ]
  },
  {
   "cell_type": "code",
   "execution_count": 10,
   "id": "233fa8dd",
   "metadata": {},
   "outputs": [
    {
     "name": "stdout",
     "output_type": "stream",
     "text": [
      "10\n"
     ]
    }
   ],
   "source": [
    "def toplam(*nums):\n",
    "    top=0\n",
    "    for i in nums:\n",
    "        top+=i\n",
    "    return top\n",
    "print(toplam(1,2,3,4))"
   ]
  },
  {
   "cell_type": "code",
   "execution_count": 11,
   "id": "8c370d6a",
   "metadata": {},
   "outputs": [
    {
     "name": "stdout",
     "output_type": "stream",
     "text": [
      "sena queen\n",
      "künefe tatlı\n"
     ]
    }
   ],
   "source": [
    "def valshow(**values):\n",
    "    for x,y in values.items():\n",
    "        print(x,y)\n",
    "valshow(sena=\"queen\",künefe=\"tatlı\")"
   ]
  },
  {
   "cell_type": "code",
   "execution_count": 12,
   "id": "62cceee6",
   "metadata": {},
   "outputs": [
    {
     "name": "stdout",
     "output_type": "stream",
     "text": [
      "c:  5\n",
      "18\n",
      "c:  10\n"
     ]
    }
   ],
   "source": [
    "c=10\n",
    "def carp(a,b):\n",
    "    c=5\n",
    "    print(\"c: \",c)\n",
    "    print(a*b)\n",
    "carp(2,9)\n",
    "print(\"c: \",c)"
   ]
  },
  {
   "cell_type": "code",
   "execution_count": 13,
   "id": "0553edf7",
   "metadata": {},
   "outputs": [
    {
     "name": "stdout",
     "output_type": "stream",
     "text": [
      "c:  5\n",
      "18\n",
      "c:  5\n"
     ]
    }
   ],
   "source": [
    "c=10\n",
    "def carp(a,b):\n",
    "    global c\n",
    "    c=5\n",
    "    print(\"c: \",c)\n",
    "    print(a*b)\n",
    "carp(2,9)\n",
    "print(\"c: \",c)"
   ]
  },
  {
   "cell_type": "code",
   "execution_count": 14,
   "id": "07bf37c0",
   "metadata": {},
   "outputs": [
    {
     "name": "stdout",
     "output_type": "stream",
     "text": [
      "True\n"
     ]
    }
   ],
   "source": [
    "# fonksiyon = lambda desigkenler:dönecek değer\n",
    "odd_num=lambda num:num%2==1\n",
    "def oddnum(num):\n",
    "    return num%2==1\n",
    "print(odd_num(21))"
   ]
  },
  {
   "cell_type": "code",
   "execution_count": 16,
   "id": "331976ca",
   "metadata": {},
   "outputs": [
    {
     "name": "stdout",
     "output_type": "stream",
     "text": [
      "[1, 2, 4, 5, 10]\n"
     ]
    }
   ],
   "source": [
    "def dividedable(num):\n",
    "    total=[]\n",
    "    for i in range(1,num):\n",
    "        if num%i==0:\n",
    "            total.append(i)\n",
    "    return total\n",
    "print(dividedable(20))"
   ]
  },
  {
   "cell_type": "code",
   "execution_count": 18,
   "id": "18479631",
   "metadata": {},
   "outputs": [
    {
     "name": "stdout",
     "output_type": "stream",
     "text": [
      "100\n"
     ]
    }
   ],
   "source": [
    "def ekok(num1,num2):\n",
    "    c=max(num1,num2)\n",
    "    total=num1*num2\n",
    "    ekok=0\n",
    "    while total>=c:# for sayı in range(total,c+1,-1)\n",
    "        if total%num1==0 and total %num2==0:\n",
    "            ekok=total\n",
    "        total-=1\n",
    "    return ekok\n",
    "print(ekok(20,25))\n",
    "        "
   ]
  },
  {
   "cell_type": "code",
   "execution_count": 19,
   "id": "0245be4b",
   "metadata": {},
   "outputs": [
    {
     "data": {
      "text/plain": [
       "'\\nimport hesaplar hesaplar.topla()\\nfrom hesaplar import *    topla() direk çıkıyor\\nimport random\\nrandom.randint(1,10)\\n'"
      ]
     },
     "execution_count": 19,
     "metadata": {},
     "output_type": "execute_result"
    }
   ],
   "source": [
    "\"\"\"\n",
    "import hesaplar hesaplar.topla()\n",
    "from hesaplar import *    topla() direk çıkıyor\n",
    "import random\n",
    "random.randint(1,10)\n",
    "\"\"\""
   ]
  },
  {
   "cell_type": "code",
   "execution_count": 31,
   "id": "6f875b9d",
   "metadata": {},
   "outputs": [
    {
     "name": "stdout",
     "output_type": "stream",
     "text": [
      "78\n",
      "your guess? 10\n",
      "wrong think about bigger\n",
      "remainig life 6\n",
      "your guess? 90\n",
      "wrong, think about lesser\n",
      "remainig life 5\n",
      "your guess? 50\n",
      "wrong think about bigger\n",
      "remainig life 4\n",
      "your guess? 78\n",
      "your guess is right number is 78\n",
      "remainig life 4\n"
     ]
    }
   ],
   "source": [
    "import random\n",
    "choosen=random.randint(1,100)\n",
    "print(choosen)\n",
    "life=7\n",
    "for i in range(life,0,-1):\n",
    "    user=int(input(\"your guess? \"))\n",
    "    if user!=choosen:\n",
    "        if user>choosen:\n",
    "            print(\"wrong, think about lesser\")\n",
    "            life-=1\n",
    "            print(\"remainig life {}\".format(life))\n",
    "        else:\n",
    "            print(\"wrong think about bigger\")\n",
    "            life-=1\n",
    "            print(\"remainig life {}\".format(life))\n",
    "\n",
    "    else:\n",
    "        print(\"your guess is right number is {}\".format(choosen))\n",
    "        print(\"remainig life {}\".format(life))\n",
    "\n",
    "        break"
   ]
  },
  {
   "cell_type": "code",
   "execution_count": 2,
   "id": "3194d966",
   "metadata": {},
   "outputs": [
    {
     "name": "stdout",
     "output_type": "stream",
     "text": [
      "Marka renault, Model clio, Fiyat 50000\n"
     ]
    }
   ],
   "source": [
    "class Araba():\n",
    "    marka=\"renault\"\n",
    "    model=\"clio\"\n",
    "    fiyat=50000\n",
    "    def bilgiler(self):\n",
    "        print(\"Marka {}, Model {}, Fiyat {}\".format(self.marka,self.model,self.fiyat))\n",
    "araba= Araba()\n",
    "araba.bilgiler()\n",
    "    "
   ]
  },
  {
   "cell_type": "code",
   "execution_count": 10,
   "id": "aa33499f",
   "metadata": {},
   "outputs": [
    {
     "name": "stdout",
     "output_type": "stream",
     "text": [
      "Marka renault, Model clio, Fiyat 60000, Renk green\n"
     ]
    }
   ],
   "source": [
    "class Araba():\n",
    "    def __init__(self,marka,model,fiyat,renk):\n",
    "        self.gelenmarka=marka\n",
    "        self.gelenmodel=model\n",
    "        self.gelenfiyat=fiyat\n",
    "        self.gelenrenk=renk\n",
    "    #def __str__(self):\n",
    "    #    self.bilgiler ()\n",
    "    def bilgiler(self):\n",
    "        return(\"Marka {}, Model {}, Fiyat {}, Renk {}\".format(self.gelenmarka,\n",
    "                                                    self.gelenmodel,\n",
    "                                                    self.gelenfiyat,\n",
    "                                                    self.gelenrenk))\n",
    "    def renk(self,renk):\n",
    "        self.gelenrenk=renk\n",
    "araba1= Araba(\"renault\",\"clio\",60000,\"blue\")\n",
    "araba1.renk(\"green\")\n",
    "print(araba1.bilgiler()) #__str__ kullanrısan print(araba1)"
   ]
  },
  {
   "cell_type": "code",
   "execution_count": 43,
   "id": "3e05a23a",
   "metadata": {},
   "outputs": [
    {
     "name": "stdout",
     "output_type": "stream",
     "text": [
      "****netwatch Otomasyonuna hoşgeldiniz.****\n",
      "1-Calisan Ekle\n",
      "2-Calisan Cikar\n",
      "3-Verilecek Maas Goster\n",
      "4-Maaslari Ver\n",
      "5-Masraf Gir\n",
      "6-Gelir Gir\n",
      "7-Exit\n",
      "7\n"
     ]
    }
   ],
   "source": [
    "class Sirket():\n",
    "    def __init__(self,ad):\n",
    "        self.ad=ad\n",
    "        self.calisma=True\n",
    "    def program(self):\n",
    "        secim=self.menuSecim()\n",
    "        if secim==1:\n",
    "            self.calisanEkle()\n",
    "        elif secim==2:\n",
    "            self.calisanCikar()\n",
    "        elif secim==3:\n",
    "            ay_yil_secim=input(\"yillik bazda görmek ister misiniz y/n?\")\n",
    "            if ay_yil_secim==\"y\":\n",
    "                self.maasGoster(hesap=\"y\")\n",
    "            else:\n",
    "                self.maasGoster()\n",
    "        elif secim==4:\n",
    "            self.maaslarVer()\n",
    "        elif secim==5:\n",
    "            self.masrafGir()\n",
    "        elif secim==6:\n",
    "            self.gelirGir()\n",
    "        elif secim==7:\n",
    "            self.calisma=False\n",
    "    def menuSecim(self):\n",
    "        secim=int(input(\"****{} Otomasyonuna hoşgeldiniz.****\\n1-Calisan Ekle\\n2-Calisan Cikar\\n3-Verilecek Maas Goster\\n4-Maaslari Ver\\n5-Masraf Gir\\n6-Gelir Gir\\n7-Exit\\n\".format(self.ad)))\n",
    "        while secim<1 or secim>7:\n",
    "            secim =int(input(\"lütfen doğru sayıyı veriniz.\"))\n",
    "        return secim\n",
    "    def calisanEkle(self):\n",
    "        id=1\n",
    "        ad=input(\"çalışanın adı:\")\n",
    "        soyad=input(\"çalışanın soyad:\")\n",
    "        yas=input(\"çalışanın yas:\")\n",
    "        cinsiyet=input(\"çalışanın cinsiyet:\")\n",
    "        maas=input(\"çalışanın maas:\")\n",
    "        \n",
    "        with open(\"calisanlar.txt\",\"r\")as dosya:\n",
    "            calisanListesi=dosya.readlines()\n",
    "        if len(calisanListesi)==0:\n",
    "            id=1\n",
    "        else:\n",
    "            with open(\"calisanlar.txt\",\"r\")as dosya:\n",
    "                id = int(dosya.readlines()[-1].split(\")\")[0]) + 1\n",
    "        with open(\"calisanlar.txt\",\"a+\")as dosya:\n",
    "            dosya.write(\"{}){}-{}-{}-{}-{}\\n\".format(id,ad,soyad,yas,cinsiyet,maas))\n",
    "        \n",
    "    def calisanCikar(self):\n",
    "        with open(\"calisanlar.txt\",\"r\") as dosya:\n",
    "            calisanlar=dosya.readlines()\n",
    "        gCalisanlar=[]\n",
    "        for calisan in calisanlar:\n",
    "            gCalisanlar.append(\" \".join(calisan[:-1].split(\"-\")))\n",
    "        for calisan in gCalisanlar:\n",
    "            print(calisan)\n",
    "        secim=int(input(\"id of calisan: \"))\n",
    "        while secim<1 or secim >len(gCalisanlar):\n",
    "            secim=int(input(\"id of calisan: \"))\n",
    "        calisanlar.pop(secim-1)\n",
    "        msayi=len(calisanlar)\n",
    "        dCalisanlar=[]\n",
    "        sayac=1\n",
    "        for calisan in calisanlar:\n",
    "            dCalisanlar.append(str(sayac)+\")\"+calisan.split(\")\")[1])\n",
    "            sayac+=1\n",
    "        with open(\"calisanlar.txt\",\"w\")as dosya:\n",
    "            dosya.writelines(dCalisanlar)\n",
    "        \n",
    "    def maasGoster(self,hesap=\"a\"):\n",
    "        \"\"\" a aylık y yillik\"\"\"\n",
    "        with open(\"calisanlar.txt\",\"r\") as dosya:\n",
    "            calisanlar=dosya.readlines()\n",
    "        maaslar=[]\n",
    "        for calisan in calisanlar:\n",
    "            maaslar.append(int(calisan.split(\"-\")[-1]))\n",
    "        if hesap==\"a\":\n",
    "            print(\"BU ay verilmesi gereken maas: {}\".format(sum(maaslar)))\n",
    "        else:\n",
    "            print(\"BU ay verilmesi gereken maas: {}\".format(sum(maaslar)*12))\n",
    "\n",
    "    def maaslarVer(self):\n",
    "        with open(\"calisanlar.txt\",\"r\") as dosya:\n",
    "            calisanlar=dosya.readlines()\n",
    "        maaslar=[]\n",
    "        for calisan in calisanlar:\n",
    "            maaslar.append(int(calisan.split(\"-\")[-1]))\n",
    "        toplamMaas=sum(maaslar)\n",
    "        with open(\"butce.txt\",\"r\") as dosya:\n",
    "            tbutce=dosya.readlines()[0]\n",
    "        tbutce=int(tbutce)\n",
    "        tbutce -=toplamMaas\n",
    "        with open(\"butce.txt\",\"w\") as dosya:\n",
    "            dosya.write(str(tbutce))\n",
    "        \n",
    "sirket=Sirket(\"netwatch\")\n",
    "while sirket.calisma:\n",
    "    sirket.program()\n"
   ]
  },
  {
   "cell_type": "code",
   "execution_count": 49,
   "id": "faf93d32",
   "metadata": {},
   "outputs": [
    {
     "name": "stdout",
     "output_type": "stream",
     "text": [
      "\n",
      "        sena kilinc bilgileri şunlardır:\n",
      "        Yaş: 22\n",
      "        Cinsiyet:Kadın\n",
      "        Maaş: 5000\n",
      "        \n",
      "\n",
      "        sena kilinc bilgileri şunlardır:\n",
      "        Yaş: 22\n",
      "        Cinsiyet:Kadın\n",
      "        Maaş: 5000\n",
      "        \n",
      "\n",
      "        ali mehmet bilgileri şunlardır:\n",
      "        Yaş: 46\n",
      "        Cinsiyet:Erkek\n",
      "        Maaş: 20000\n",
      "        \n",
      "\n",
      "        sena kilinc bilgileri şunlardır:\n",
      "        Yaş: 22\n",
      "        Cinsiyet:Kadın\n",
      "        Maaş: 6000\n",
      "        \n"
     ]
    }
   ],
   "source": [
    "class Personal():\n",
    "    def __init__(self,ad,soyad,yas,cinsiyet,maas):\n",
    "        self.ad=ad\n",
    "        self.soyad=soyad\n",
    "        self.yas=yas\n",
    "        self.cinsiyet=cinsiyet\n",
    "        self.maas=maas\n",
    "    def bilgiler(self):\n",
    "        print(\"\"\"\n",
    "        {} {} bilgileri şunlardır:\n",
    "        Yaş: {}\n",
    "        Cinsiyet:{}\n",
    "        Maaş: {}\n",
    "        \"\"\".format(self.ad,self.soyad,self.yas,self.cinsiyet,self.maas))\n",
    "    def __str__(self):\n",
    "        return (\"\"\"\n",
    "        {} {} bilgileri şunlardır:\n",
    "        Yaş: {}\n",
    "        Cinsiyet:{}\n",
    "        Maaş: {}\n",
    "        \"\"\".format(self.ad,self.soyad,self.yas,self.cinsiyet,self.maas))\n",
    "personel=Personal(\"sena\",\"kilinc\",22,\"Kadın\",5000)\n",
    "personel.bilgiler()\n",
    "print(personel) #str\n",
    "\n",
    "class Yonetici(Personal):\n",
    "    def __init__(self,ad,soyad,yas,cinsiyet,maas):\n",
    "        super().__init__(ad,soyad,yas,cinsiyet,maas) # kalitim\n",
    "    def maasArttir(self,pObject,arıtrma=1000):\n",
    "        pObject.maas += arıtrma\n",
    "yonetici= Yonetici(\"ali\",\"mehmet\",46,\"Erkek\",20000)\n",
    "print(yonetici)\n",
    "yonetici.maasArttir(personel)\n",
    "personel.bilgiler()"
   ]
  },
  {
   "cell_type": "code",
   "execution_count": 50,
   "id": "674a5edf",
   "metadata": {},
   "outputs": [
    {
     "name": "stdout",
     "output_type": "stream",
     "text": [
      "BOY: asdpk\n",
      "doğru gir\n",
      "BOY: asdokas\n",
      "doğru gir\n",
      "BOY: 1.50\n",
      "kütle: asdpl\n",
      "doğru gir\n",
      "BOY: 1.50\n",
      "kütle: 50\n",
      "22.22222222222222\n"
     ]
    }
   ],
   "source": [
    "while True:\n",
    "    try:\n",
    "        boy=float(input(\"BOY: \"))\n",
    "        kütle=float(input(\"kütle: \"))\n",
    "        break\n",
    "    except:\n",
    "        print(\"doğru gir\")\n",
    "print(kütle/boy**2)\n"
   ]
  },
  {
   "cell_type": "code",
   "execution_count": 53,
   "id": "bf2c2949",
   "metadata": {},
   "outputs": [
    {
     "name": "stdout",
     "output_type": "stream",
     "text": [
      "buraya gir\n"
     ]
    }
   ],
   "source": [
    "def sayılartopla(nums):\n",
    "    if type(nums)!=list:\n",
    "        raise TypeError(\"Parametre list olmalı\")\n",
    "    top=0\n",
    "    for i in nums:\n",
    "        top+=i\n",
    "    return top\n",
    "try:\n",
    "    print(sayılartopla(\"mer\"))\n",
    "except:\n",
    "    print(\"buraya gir\")"
   ]
  },
  {
   "cell_type": "code",
   "execution_count": 58,
   "id": "6356485b",
   "metadata": {},
   "outputs": [],
   "source": [
    "dosya=open(\"planlar.txt\",\"r\",encoding=\"utf-8\")\n",
    "dosya.read() #read all lines (5)\n",
    "#readline # \\n görene kadar okur yani satırı okur\n",
    "#readlines # bütün satırlatı okur ve listeye atar\n",
    "#tell # nerede olduğumuzu belirtir\n",
    "#seek #imlecin yerini ayarlayabilir \n",
    "dosya.close()"
   ]
  },
  {
   "cell_type": "code",
   "execution_count": 57,
   "id": "d773c094",
   "metadata": {},
   "outputs": [],
   "source": [
    "dosya=open(\"planlar.txt\",\"w\",encoding=\"utf-8\")\n",
    "dosya.write(\"sena\")\n",
    "dosya.close()\n",
    "# w overwrite yapar, ekleme yapmak istyiorsan a"
   ]
  },
  {
   "cell_type": "code",
   "execution_count": 61,
   "id": "354889a9",
   "metadata": {},
   "outputs": [
    {
     "name": "stdout",
     "output_type": "stream",
     "text": [
      "[1, 4, 9, 16]\n"
     ]
    }
   ],
   "source": [
    "def kare(x):\n",
    "    return x**2\n",
    "print(list(map(kare,[1,2,3,4]))) # CONTROL CONDİTİON OLABİLİR "
   ]
  },
  {
   "cell_type": "code",
   "execution_count": 62,
   "id": "bcee92ef",
   "metadata": {},
   "outputs": [
    {
     "name": "stdout",
     "output_type": "stream",
     "text": [
      "[True, False]\n"
     ]
    }
   ],
   "source": [
    "cont= {\"sena\":22,\"ali\":24}\n",
    "def control(username,password):\n",
    "    try:\n",
    "        if cont[username]==password:\n",
    "            return True\n",
    "        else:\n",
    "            return False\n",
    "    except:\n",
    "        return False\n",
    "results=list(map(control,[\"sena\",\"masısa\"],[22,24]))\n",
    "print(results)"
   ]
  },
  {
   "cell_type": "code",
   "execution_count": 63,
   "id": "2cfd3a9e",
   "metadata": {},
   "outputs": [
    {
     "name": "stdout",
     "output_type": "stream",
     "text": [
      "[('sena', 90), ('ali', 69)]\n"
     ]
    }
   ],
   "source": [
    "students=[\"sena\",\"ali\"]\n",
    "notes=[90,69]\n",
    "print(list(zip(students,notes)))"
   ]
  },
  {
   "cell_type": "code",
   "execution_count": 65,
   "id": "2154a948",
   "metadata": {},
   "outputs": [
    {
     "name": "stdout",
     "output_type": "stream",
     "text": [
      "[(0, 'sena'), (1, 'ali')]\n"
     ]
    }
   ],
   "source": [
    "print(list(enumerate(students)))"
   ]
  },
  {
   "cell_type": "code",
   "execution_count": 66,
   "id": "e5e4b879",
   "metadata": {},
   "outputs": [
    {
     "name": "stdout",
     "output_type": "stream",
     "text": [
      "['SENA']\n"
     ]
    }
   ],
   "source": [
    "import re\n",
    "def cont(yazi):\n",
    "    return re.search(\"^[A-Z].*\",yazi)\n",
    "print(list(filter(cont,[\"SENA\",\"57ALİ\"])))"
   ]
  },
  {
   "cell_type": "code",
   "execution_count": 80,
   "id": "42208ff0",
   "metadata": {},
   "outputs": [
    {
     "name": "stdout",
     "output_type": "stream",
     "text": [
      "SENA\n",
      "sena\n",
      "cena\n",
      "True\n",
      "True\n",
      "['sena', 'mert', 'ali']\n",
      "a-mert-ali\n",
      "5\n",
      "2\n",
      "sena,mert,ali\n"
     ]
    }
   ],
   "source": [
    "yazi=\"sena\"\n",
    "print(yazi.upper())\n",
    "print(yazi.lower())\n",
    "print(yazi.replace(\"s\",\"c\"))\n",
    "print(yazi.startswith(\"se\"))\n",
    "print(yazi.endswith(\"na\"))\n",
    "yazi=\"sena-mert-ali\"\n",
    "print(yazi.split(\"-\"))\n",
    "print(yazi.strip(\"sen\"))\n",
    "print(yazi.find(\"mert\"))\n",
    "print(yazi.count(\"a\"))\n",
    "print(\",\".join(yazi.split(\"-\")))"
   ]
  },
  {
   "cell_type": "code",
   "execution_count": 92,
   "id": "36bafa1c",
   "metadata": {},
   "outputs": [
    {
     "name": "stdout",
     "output_type": "stream",
     "text": [
      "{10, 'ali', 'sena'}\n",
      "{'ali', 'sena'}\n",
      "{1, 5, 23}\n",
      "{4}\n",
      "False\n",
      "False\n"
     ]
    }
   ],
   "source": [
    "#set yapısı set()\n",
    "kume={\"sena\",\"sena\"}\n",
    "kume.add(10)\n",
    "kume.add(\"ali\") # indexli gelmiyo\n",
    "print(kume)\n",
    "kume.discard(10)\n",
    "print(kume)\n",
    "a={1,23,4,5}\n",
    "b={2,4,56,7}\n",
    "print(a.difference(b)) # a da olup b de yok\n",
    "#print(a.difference_update(b)) farklı olanı çıkar\n",
    "#print(a)\n",
    "print(a.intersection(b)) # aynı olanı göster\n",
    "print(a.isdisjoint(b)) # ayro mo\n",
    "print(a.issubset(b)) # alt küme mi"
   ]
  },
  {
   "cell_type": "code",
   "execution_count": null,
   "id": "9f57e6be",
   "metadata": {},
   "outputs": [],
   "source": []
  }
 ],
 "metadata": {
  "kernelspec": {
   "display_name": "Python 3 (ipykernel)",
   "language": "python",
   "name": "python3"
  },
  "language_info": {
   "codemirror_mode": {
    "name": "ipython",
    "version": 3
   },
   "file_extension": ".py",
   "mimetype": "text/x-python",
   "name": "python",
   "nbconvert_exporter": "python",
   "pygments_lexer": "ipython3",
   "version": "3.9.12"
  }
 },
 "nbformat": 4,
 "nbformat_minor": 5
}
